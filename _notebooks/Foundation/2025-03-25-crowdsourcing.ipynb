{
 "cells": [
  {
   "cell_type": "raw",
   "metadata": {
    "vscode": {
     "languageId": "raw"
    }
   },
   "source": [
    "---\n",
    "toc: true\n",
    "comments: false\n",
    "layout: post\n",
    "type: hacks\n",
    "courses: { compsci: {week: 26} }\n",
    "title: Crowdsourcing\n",
    "---"
   ]
  },
  {
   "cell_type": "markdown",
   "metadata": {},
   "source": [
    "# Question 1\n",
    "Explain the concept of crowdsourcing. Provide 2 examples (that have not been mentioned in this lesson) of how it is commonly used in different fields."
   ]
  },
  {
   "cell_type": "markdown",
   "metadata": {},
   "source": [
    "Crowdsourcing is used when companies or individuals request a \"crowd\" to contribute ideas, labor, or funding. The group effort will often generate more creative, diverse, or larger results than an individual or team could.\n",
    "\n",
    "Here are two more examples:\n",
    "\n",
    "Lego Ideas (Toy Industry)\n",
    "Lego invites fans to submit new Lego set ideas. If a project gets 10,000 community votes, the Lego team will consider it—and some have even been turned into real sets, like the Women of NASA or Stranger Things kits.\n",
    "\n",
    "Duolingo Forum Translations (Education)\n",
    "Duolingo relies on volunteers from all over the world to translate and enhance language courses. Native speakers give feedback, correct errors, and develop the content of the app, all through crowdsourcing."
   ]
  },
  {
   "cell_type": "markdown",
   "metadata": {},
   "source": [
    "# Question 2\n",
    "Identify a real-world example of a successful crowdsourcing project. Explain the project, its goals, and the positive outcomes achieved through the collaboration of a large group of people."
   ]
  },
  {
   "cell_type": "markdown",
   "metadata": {},
   "source": [
    "One such example is Crisis Mapping for the Haiti Earthquake (2010).\n",
    "\n",
    "The Project: Volunteers used the Ushahidi platform to collect and map in real-time reports that came in by SMS, Twitter, emails, and news of people trapped, areas needing help, and where resources were available.\n",
    "\n",
    "The Goal: To support humanitarian response by providing a constantly updated map to responders on the ground.\n",
    "\n",
    "The Result: This crowd-sourced map guided NGOs and rescue teams, allowing them to deliver food, water, and medical supplies more effectively. It revolutionized how digital volunteers can assist with disaster response."
   ]
  },
  {
   "cell_type": "markdown",
   "metadata": {},
   "source": [
    "# Question 3\n",
    "What are some drawbacks of crowdsourcing and why would certain groups denounce crowdsourcing? Provide specific example(s)."
   ]
  },
  {
   "cell_type": "markdown",
   "metadata": {},
   "source": [
    "Despite its advantages, crowdsourcing has some serious drawbacks.\n",
    "\n",
    "Absence of Quality Control: The information isn't always accurate or trustworthy because anyone can contribute. For instance, Wikipedia is always fighting against inaccurate edits and vandalism.\n",
    "\n",
    "\n",
    "Labor exploitation: Workers are paid pitiful sums to complete tasks like image labeling and content moderation on websites such as Amazon Mechanical Turk. Critics claim that it is a digital sweatshop where employees work for pennies.\n",
    "\n",
    "Inequity & Bias: Crowdsourcing has the potential to reinforce prevailing social biases. The final product might not meet or represent the needs and experiences of a global user base, for instance, if the majority of your data contributors are from a single region or demographic (such as English-speaking U.S. users). \n",
    "\n",
    "Privacy Risks: Certain projects gather location-based or personal data (e.g., citizen science). This could jeopardize user privacy if misused or disclosed.\n",
    "\n",
    "Therefore, even though crowdsourcing has a lot of power, it needs to be properly controlled to be accurate, safe, and equitable."
   ]
  },
  {
   "cell_type": "markdown",
   "metadata": {},
   "source": [
    "# Question 4\n",
    "Find a public data set that would work with your Pilot City project."
   ]
  },
  {
   "cell_type": "markdown",
   "metadata": {},
   "source": [
    "https://github.com/users/Hypernova101/projects/2?pane=issue&itemId=103940708&issue=Hypernova101%7Cparking_frontend%7C2"
   ]
  },
  {
   "cell_type": "markdown",
   "metadata": {},
   "source": [
    "# MCQ"
   ]
  },
  {
   "cell_type": "markdown",
   "metadata": {},
   "source": [
    "**1. Which of the following is NOT an example of citizen science?**  \n",
    "A) When perfecting their recommendation algorithms, Amazon looks at the data of its users to see what items users tend to buy at the same time. ✅  \n",
    "B) In order to increase computing power, NASA creates a program that people can run on their personal computing devices when they have free RAM to enhance their supercomputing power.  \n",
    "C) Volunteers can watch a live camera feed of a canal in the Netherlands and press a button to open the gate to let fish through when they are trapped on one side.  \n",
    "D) When they see an invasive species in the wild, people can report their sightings on a website so researchers can use that data to map trends over time.\n",
    "\n",
    "**2. Which of the following would benefit from crowdsourcing?**  \n",
    "A) An online wiki about the popular anime Jojo’s Bizarre Adventure. ✅  \n",
    "B) An online ticket purchasing system that allows people to buy tickets for the art museum.  \n",
    "C) A free online application that allows users to convert images from one format to another.  \n",
    "D) An automated inventory management system for a large warehouse.\n",
    "\n",
    "**3. A software company wants to improve its product’s user interface. Which crowdsourcing approach would be most effective for gathering diverse feedback while minimizing development costs?**  \n",
    "A) Hire professional UI consultants  \n",
    "B) Release a beta version with built-in feedback tools ✅  \n",
    "C) Survey only existing customers via email  \n",
    "D) Conduct in-person focus groups\n"
   ]
  }
 ],
 "metadata": {
  "language_info": {
   "name": "python"
  }
 },
 "nbformat": 4,
 "nbformat_minor": 2
}
