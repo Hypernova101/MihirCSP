{
 "cells": [
  {
   "cell_type": "raw",
   "id": "4004bcf7",
   "metadata": {
    "vscode": {
     "languageId": "raw"
    }
   },
   "source": [
    "---\n",
    "toc: true\n",
    "comments: false\n",
    "layout: post\n",
    "type: hacks\n",
    "courses: { compsci: {week: 26} }\n",
    "title: Color Code / Images / Base64 Lesson\n",
    "---"
   ]
  },
  {
   "cell_type": "markdown",
<<<<<<< HEAD
=======
   "id": "259b9d32",
   "metadata": {},
   "source": []
  },
  {
   "cell_type": "markdown",
>>>>>>> fa15ca5 (homework and popcorn hacks for random lesson)
   "id": "8dcc0afc",
   "metadata": {},
   "source": []
  }
 ],
 "metadata": {
  "language_info": {
   "name": "python"
  }
 },
 "nbformat": 4,
 "nbformat_minor": 5
}
