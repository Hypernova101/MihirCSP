{
 "cells": [
  {
   "cell_type": "raw",
   "id": "4004bcf7",
   "metadata": {
    "vscode": {
     "languageId": "raw"
    }
   },
   "source": [
    "---\n",
    "toc: true\n",
    "comments: false\n",
    "layout: post\n",
    "type: hacks\n",
    "courses: { compsci: {week: 26} }\n",
    "title: Color Code / Images / Base64 Lesson\n",
    "---"
   ]
  },
  {
   "cell_type": "markdown",
   "id": "8dcc0afc",
   "metadata": {},
   "source": []
  }
 ],
 "metadata": {
  "language_info": {
   "name": "python"
  }
 },
 "nbformat": 4,
 "nbformat_minor": 5
}
