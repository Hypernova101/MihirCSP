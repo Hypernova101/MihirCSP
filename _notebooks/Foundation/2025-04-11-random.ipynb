{
 "cells": [
  {
   "cell_type": "raw",
   "id": "14d42852",
   "metadata": {
    "vscode": {
     "languageId": "raw"
    }
   },
   "source": [
    "---\n",
    "toc: true\n",
    "comments: false\n",
    "layout: post\n",
    "type: hacks\n",
    "courses: { compsci: {week: 26} }\n",
    "title: Random and Simulation Homework and Popcorn \n",
    "---"
   ]
  },
  {
   "cell_type": "markdown",
   "id": "9035d1f4",
   "metadata": {},
   "source": [
    "# Simulation and Random Algorithms - Hacks\n",
    "\n",
    "## Popcorn Hack #1: Dice Roll Simulation (Basic)\n",
    "\n",
    "**Objective:**  \n",
    "Write a function that simulates a 6-sided dice roll using the `random` module.\n",
    "\n",
    "---"
   ]
  },
  {
   "cell_type": "code",
   "execution_count": 4,
   "id": "1ce0478e",
   "metadata": {},
   "outputs": [
    {
     "name": "stdout",
     "output_type": "stream",
     "text": [
      "Dice roll: 5\n"
     ]
    }
   ],
   "source": [
    "import random\n",
    "\n",
    "def roll_dice():\n",
    "    return random.randint(1, 6)\n",
    "\n",
    "# Example usage:\n",
    "print(\"Dice roll:\", roll_dice())"
   ]
  },
  {
   "cell_type": "markdown",
   "id": "16f6239f",
   "metadata": {},
   "source": [
    "\n",
    "## Popcorn Hack #2: Biased Color Generator\n",
    "\n",
    "**Objective:**  \n",
    "Modify the function `biased_color()` so that:\n",
    "- Red appears 50% of the time\n",
    "- Blue appears 30% of the time\n",
    "- All other colors (e.g., Green, Yellow, Purple) share the remaining 20%\n",
    "\n",
    "\n",
    "---\n"
   ]
  },
  {
   "cell_type": "code",
   "execution_count": 5,
   "id": "ba5a2e52",
   "metadata": {},
   "outputs": [
    {
     "name": "stdout",
     "output_type": "stream",
     "text": [
      "Color: Red\n",
      "Color: Red\n",
      "Color: Blue\n",
      "Color: Red\n",
      "Color: Red\n",
      "Color: Red\n",
      "Color: Blue\n",
      "Color: Red\n",
      "Color: Red\n",
      "Color: Purple\n"
     ]
    }
   ],
   "source": [
    "import random\n",
    "\n",
    "def biased_color():\n",
    "    colors = [\"Red\", \"Blue\", \"Green\", \"Yellow\", \"Purple\"]\n",
    "    probabilities = [0.5, 0.3, 0.07, 0.07, 0.06]\n",
    "\n",
    "    for _ in range(10):\n",
    "        print(\"Color:\", random.choices(colors, probabilities)[0])\n",
    "\n",
    "# Example usage\n",
    "biased_color()"
   ]
  },
  {
   "cell_type": "markdown",
   "id": "2a8efda6",
   "metadata": {},
   "source": [
    "## Homework Hack #1: Coin Flip Win Simulation\n",
    "\n",
    "**Objective:**  \n",
    "Simulate a game where two players flip a coin. The first to reach 3 heads wins.\n",
    "\n",
    "**Steps:**\n",
    "1. Use `random.choice([\"heads\", \"tails\"])` for coin flips.\n",
    "2. Keep track of how many heads each player has.\n",
    "3. Loop until one player reaches 3 heads.\n",
    "4. Print the winner and how many rounds it took.\n",
    "\n",
    "---"
   ]
  },
  {
   "cell_type": "code",
   "execution_count": 6,
   "id": "788b16fb",
   "metadata": {},
   "outputs": [
    {
     "name": "stdout",
     "output_type": "stream",
     "text": [
      "Player 2 wins after 5 rounds!\n"
     ]
    }
   ],
   "source": [
    "import random\n",
    "\n",
    "def coin_flip_game():\n",
    "    player1_heads = 0\n",
    "    player2_heads = 0\n",
    "    rounds = 0\n",
    "\n",
    "    while player1_heads < 3 and player2_heads < 3:\n",
    "        p1_flip = random.choice([\"heads\", \"tails\"])\n",
    "        p2_flip = random.choice([\"heads\", \"tails\"])\n",
    "\n",
    "        if p1_flip == \"heads\":\n",
    "            player1_heads += 1\n",
    "        if p2_flip == \"heads\":\n",
    "            player2_heads += 1\n",
    "\n",
    "        rounds += 1\n",
    "\n",
    "    if player1_heads == 3:\n",
    "        winner = \"Player 1\"\n",
    "    else:\n",
    "        winner = \"Player 2\"\n",
    "\n",
    "    print(f\"{winner} wins after {rounds} rounds!\")\n",
    "\n",
    "# Example usage\n",
    "coin_flip_game()"
   ]
  }
 ],
 "metadata": {
  "kernelspec": {
   "display_name": "Python 3",
   "language": "python",
   "name": "python3"
  },
  "language_info": {
   "name": "python",
   "version": "3.12.3"
  }
 },
 "nbformat": 4,
 "nbformat_minor": 5
}
