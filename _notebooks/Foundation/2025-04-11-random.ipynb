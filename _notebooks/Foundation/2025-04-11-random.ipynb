{
 "cells": [
  {
   "cell_type": "raw",
   "id": "a34e34c3",
   "metadata": {
    "vscode": {
     "languageId": "raw"
    }
   },
   "source": [
    "---\n",
    "toc: true\n",
    "comments: false\n",
    "layout: post\n",
    "type: hacks\n",
    "courses: { compsci: {week: 26} }\n",
    "title: Random Simulation Team Teach Lesson\n",
    "---"
   ]
  },
  {
   "cell_type": "markdown",
   "id": "7b23c304",
   "metadata": {},
   "source": [
    "# Practice MC Answer\n",
    "\n",
    "Option C"
   ]
  },
  {
   "cell_type": "markdown",
   "id": "0f4ce3f3",
   "metadata": {},
   "source": [
    "# Simulation and Random Algorithms - Hacks\n",
    "\n",
    "## Popcorn Hack #1: Dice Roll Simulation (Basic)\n",
    "\n",
    "**Objective:**  \n",
    "Write a function that simulates a 6-sided dice roll using the `random` module.\n",
    "\n",
    "---"
   ]
  },
  {
   "cell_type": "code",
   "execution_count": 1,
   "id": "d3675b97",
   "metadata": {},
   "outputs": [
    {
     "name": "stdout",
     "output_type": "stream",
     "text": [
      "Dice roll: 4\n"
     ]
    }
   ],
   "source": [
    "import random\n",
    "\n",
    "def roll_dice():\n",
    "    return random.randint(1, 6)\n",
    "\n",
    "# Example usage:\n",
    "print(\"Dice roll:\", roll_dice())"
   ]
  },
  {
   "cell_type": "markdown",
   "id": "79a7dcc9",
   "metadata": {},
   "source": [
    "\n",
    "## Popcorn Hack #2: Biased Color Generator\n",
    "\n",
    "**Objective:**  \n",
    "Modify the function `biased_color()` so that:\n",
    "- Red appears 50% of the time\n",
    "- Blue appears 30% of the time\n",
    "- All other colors (e.g., Green, Yellow, Purple) share the remaining 20%\n",
    "\n",
    "\n",
    "---\n"
   ]
  },
  {
   "cell_type": "code",
   "execution_count": 2,
   "id": "62534f46",
   "metadata": {},
   "outputs": [
    {
     "name": "stdout",
     "output_type": "stream",
     "text": [
      "Color: Green\n",
      "Color: Blue\n",
      "Color: Red\n",
      "Color: Red\n",
      "Color: Yellow\n",
      "Color: Red\n",
      "Color: Red\n",
      "Color: Green\n",
      "Color: Green\n",
      "Color: Red\n"
     ]
    }
   ],
   "source": [
    "import random\n",
    "\n",
    "def biased_color():\n",
    "    colors = [\"Red\", \"Blue\", \"Green\", \"Yellow\", \"Purple\"]\n",
    "    probabilities = [0.5, 0.3, 0.07, 0.07, 0.06]\n",
    "\n",
    "    for _ in range(10):\n",
    "        print(\"Color:\", random.choices(colors, probabilities)[0])\n",
    "\n",
    "# Example usage\n",
    "biased_color()"
   ]
  },
  {
   "cell_type": "markdown",
   "id": "a8e9a1c7",
   "metadata": {},
   "source": [
    "## Homework Hack #1: Coin Flip Win Simulation\n",
    "\n",
    "**Objective:**  \n",
    "Simulate a game where two players flip a coin. The first to reach 3 heads wins.\n",
    "\n",
    "**Steps:**\n",
    "1. Use `random.choice([\"heads\", \"tails\"])` for coin flips.\n",
    "2. Keep track of how many heads each player has.\n",
    "3. Loop until one player reaches 3 heads.\n",
    "4. Print the winner and how many rounds it took.\n",
    "\n",
    "---"
   ]
  },
  {
   "cell_type": "code",
   "execution_count": 3,
   "id": "7c51047a",
   "metadata": {},
   "outputs": [
    {
     "name": "stdout",
     "output_type": "stream",
     "text": [
      "Player 1 wins after 4 rounds!\n"
     ]
    }
   ],
   "source": [
    "import random\n",
    "\n",
    "def coin_flip_game():\n",
    "    player1_heads = 0\n",
    "    player2_heads = 0\n",
    "    rounds = 0\n",
    "\n",
    "    while player1_heads < 3 and player2_heads < 3:\n",
    "        p1_flip = random.choice([\"heads\", \"tails\"])\n",
    "        p2_flip = random.choice([\"heads\", \"tails\"])\n",
    "\n",
    "        if p1_flip == \"heads\":\n",
    "            player1_heads += 1\n",
    "        if p2_flip == \"heads\":\n",
    "            player2_heads += 1\n",
    "\n",
    "        rounds += 1\n",
    "\n",
    "    if player1_heads == 3:\n",
    "        winner = \"Player 1\"\n",
    "    else:\n",
    "        winner = \"Player 2\"\n",
    "\n",
    "    print(f\"{winner} wins after {rounds} rounds!\")\n",
    "\n",
    "# Example usage\n",
    "coin_flip_game()"
   ]
  },
  {
   "cell_type": "markdown",
   "id": "5933733c",
   "metadata": {},
   "source": [
    "# Image showing score of Quizziz MC\n",
    "\n",
    "![Image]({{site.baseurl}}/images/quizziz.png)"
   ]
  }
 ],
 "metadata": {
  "kernelspec": {
   "display_name": "Python 3",
   "language": "python",
   "name": "python3"
  },
  "language_info": {
   "codemirror_mode": {
    "name": "ipython",
    "version": 3
   },
   "file_extension": ".py",
   "mimetype": "text/x-python",
   "name": "python",
   "nbconvert_exporter": "python",
   "pygments_lexer": "ipython3",
   "version": "3.12.3"
  }
 },
 "nbformat": 4,
 "nbformat_minor": 5
}
