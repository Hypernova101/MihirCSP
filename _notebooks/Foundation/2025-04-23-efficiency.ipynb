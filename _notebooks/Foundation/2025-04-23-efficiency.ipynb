{
 "cells": [
  {
   "cell_type": "raw",
   "id": "b7339b66",
   "metadata": {
    "vscode": {
     "languageId": "raw"
    }
   },
   "source": [
    "---\n",
    "toc: true\n",
    "comments: false\n",
    "layout: post\n",
    "type: hacks\n",
    "courses: { compsci: {week: 26} }\n",
    "title: Big O Notation Homework\n",
    "---"
   ]
  },
  {
   "cell_type": "markdown",
   "id": "4bff25a7",
   "metadata": {},
   "source": [
    "\n",
    "---\n",
    "\n",
    "### ✅ **O(1)** – Constant Time\n",
    "```python\n",
    "def get_first_element(arr):\n",
    "    return arr[0]  # Always takes same time regardless of size\n",
    "```\n",
    "\n",
    "---\n",
    "\n",
    "### ✅ **O(log n)** – Logarithmic Time (Binary Search)\n",
    "```python\n",
    "def binary_search(arr, target):\n",
    "    left, right = 0, len(arr) - 1\n",
    "    while left <= right:\n",
    "        mid = (left + right) // 2\n",
    "        if arr[mid] == target:\n",
    "            return True\n",
    "        elif arr[mid] < target:\n",
    "            left = mid + 1\n",
    "        else:\n",
    "            right = mid - 1\n",
    "    return False\n",
    "```"
   ]
  },
  {
   "cell_type": "markdown",
   "id": "1125aaf4",
   "metadata": {},
   "source": [
    "\n",
    "\n",
    "---\n",
    "\n",
    "### ✅ **O(n)** – Linear Time  \n",
    "```python\n",
    "def sum_list(arr):\n",
    "    total = 0\n",
    "    for num in arr:\n",
    "        total += num\n",
    "    return total\n",
    "```\n",
    "---\n",
    "\n",
    "### ✅ **O(n²)** – Quadratic Time  \n",
    "```python\n",
    "def has_duplicate_pair(arr):\n",
    "    for i in range(len(arr)):\n",
    "        for j in range(i + 1, len(arr)):\n",
    "            if arr[i] == arr[j]:\n",
    "                return True\n",
    "    return False\n",
    "```"
   ]
  }
 ],
 "metadata": {
  "language_info": {
   "name": "python"
  }
 },
 "nbformat": 4,
 "nbformat_minor": 5
}
