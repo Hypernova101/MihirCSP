{
 "cells": [
  {
   "cell_type": "raw",
   "metadata": {
    "vscode": {
     "languageId": "raw"
    }
   },
   "source": [
    "---\n",
    "toc: true\n",
    "comments: true\n",
    "layout: post\n",
    "type: hacks\n",
    "courses: { compsci: {week: 25} }\n",
    "title: Binary Search Team Teach\n",
    "description: Lessons on Binary Search\n",
    "---"
   ]
  },
  {
   "cell_type": "markdown",
   "metadata": {},
   "source": [
    "# Binary Search Algorithm\n",
    "Binary search is an efficient searching algorithm used to find an element in a **sorted** list. It works by repeatedly dividing the search space in half until the target element is found or the search space is empty.\n",
    "## **How Binary Search Works**\n",
    "1. Find the **middle element** of the list.\n",
    "2. If the middle element is the target, return its index.\n",
    "3. If the target is **less** than the middle element, search in the **left half**.\n",
    "4. If the target is **greater** than the middle element, search in the **right half**.\n",
    "5. Repeat steps 1–4 until the element is found or the search space becomes empty.a"
   ]
  },
  {
   "cell_type": "markdown",
   "metadata": {},
   "source": [
    "## Binary vs Linear Search\n",
    "The time complexity of binary search depends on how many steps it takes to find the target.\n",
    "### Best Case: \\(O(1)\\)\n",
    "- If the middle element is the target, we find it in **one step**.\n",
    "- This is the fastest possible outcome.\n",
    "### **Worst & Average Case: \\(O(\\log n)\\)**\n",
    "- Each time we check the middle element, we **cut the remaining search space in half**.\n",
    "- If we start with \\( n \\) elements, the number of times we can halve it before only one element remains is about **\\(\\log_2 n\\)**.\n",
    "- This means that even for a **huge list**, we only need a few steps.\n",
    "### **Why Is This Fast?**\n",
    "| **Number of Elements (n)** | **Maximum Steps (log₂ n)** |\n",
    "|----------------------------|---------------------------|\n",
    "| 8                          | 3                         |\n",
    "| 16                         | 4                         |\n",
    "| 32                         | 5                         |\n",
    "| 1,024                      | 10                        |\n",
    "| 1,048,576 (1 million)      | 20                        |\n",
    "- Even with **1 million elements**, we only need **20 steps** to find the target.\n",
    "- Compare this to a **linear search** \\(O(n)\\), which may take up to 1 million steps!\n",
    "Binary search is fast because it **eliminates half of the data** at each step, making it much better than checking each element one by one."
   ]
  },
  {
   "cell_type": "markdown",
   "metadata": {},
   "source": [
    "# Binary Search Algorithm with Recursive implementation\n",
    "## (With Sequencing, Selection, and Iteration)"
   ]
  },
  {
   "cell_type": "code",
   "execution_count": null,
   "metadata": {},
   "outputs": [
    {
     "ename": "",
     "evalue": "",
     "output_type": "error",
     "traceback": [
      "\u001b[1;31mRunning cells with 'venv (Python 3.12.9)' requires the ipykernel package.\n",
      "\u001b[1;31mRun the following command to install 'ipykernel' into the Python environment. \n",
      "\u001b[1;31mCommand: '/Users/kiruthicselvakumar/nighthawk/MihirCSP/venv/bin/python -m pip install ipykernel -U --force-reinstall'"
     ]
    }
   ],
   "source": [
    "def binary_search(arr, target):\n",
    "    left, right = 0, len(arr) - 1\n",
    "    while left <= right:\n",
    "        mid = (left + right) // 2  # Find middle index\n",
    "        print(f\"Searching between indices {left} and {right}, middle index is {mid}, value at mid is {arr[mid]}\")\n",
    "        if arr[mid] == target:\n",
    "            return mid, arr[mid]  # Return index and the value at mid\n",
    "        elif arr[mid] < target:\n",
    "            left = mid + 1  # Search right half\n",
    "        else:\n",
    "            right = mid - 1  # Search left half\n",
    "    return -1, None  # Element not found\n",
    "\n",
    "\n",
    "# Example usage:\n",
    "arr = [1, 3, 5, 7, 9, 11, 13]\n",
    "target = 3\n",
    "index, value = binary_search(arr, target)\n",
    "print(f\"Target found at index {index}, value is {value}\")  # Output: index and value of 3"
   ]
  },
  {
   "cell_type": "markdown",
   "metadata": {},
   "source": [
    "### **Code Breakdown**\n",
    "#### **Initial Setup**:\n",
    "- `left = 0, right = len(arr) - 1`: Defines the search range (entire array initially).\n",
    "#### **While Loop** (`while left <= right`):\n",
    "- Repeats as long as the search range is valid.\n",
    "#### **Middle Element Calculation**:\n",
    "- `mid = (left + right) // 2`: Finds the middle index of the current range.\n",
    "#### **Search Process**:\n",
    "- **If** `arr[mid] == target`: Target found, return the index and value.\n",
    "- **If** `arr[mid] < target`: Search the right half by updating `left` to `mid + 1`.\n",
    "- **If** `arr[mid] > target`: Search the left half by updating `right` to `mid - 1`.\n",
    "#### **Return**:\n",
    "- If the target is not found, return `-1` and `None`.\n",
    "### **Example Walkthrough** (For `arr = [1, 3, 5, 7, 9, 11, 13]` and `target = 3`):\n",
    "1. **First round**:\n",
    "   - Searching between indices 0 and 6. Middle index is 3, value is `7`.\n",
    "   - Since `7 > 3`, search left half (indices 0 to 2).\n",
    "2. **Second round**:\n",
    "   - Searching between indices 0 and 2. Middle index is 1, value is `3`.\n",
    "   - Target found at index 1.\n",
    "### **Key Points**:\n",
    "- Binary Search divides the search range by half in each iteration, making it efficient (**O(log n)** time complexity).\n",
    "- The process is repeated until the target is found or the search range becomes invalid."
   ]
  },
  {
   "cell_type": "markdown",
   "metadata": {},
   "source": [
    "#### Sequencing\n",
    "This is a multi-step algorithm, that proceeds with an order of steps which must be completed in order to work, hence there is sequencing."
   ]
  },
  {
   "cell_type": "markdown",
   "metadata": {},
   "source": [
    "#### Selection"
   ]
  },
  {
   "cell_type": "code",
   "execution_count": null,
   "metadata": {},
   "outputs": [],
   "source": [
    "if arr[mid] == target:\n",
    "    return mid, arr[mid]  # Return index and the value at mid\n",
    "elif arr[mid] < target:\n",
    "    left = mid + 1  # Search right half\n",
    "else:\n",
    "    right = mid - 1  # Search left half"
   ]
  },
  {
   "cell_type": "markdown",
   "metadata": {},
   "source": [
    "This part of the function uses a condition ```if```, ```elif```, and ```else```. In order to check whether the desired value is in which part of the array."
   ]
  },
  {
   "cell_type": "markdown",
   "metadata": {},
   "source": [
    "#### Iteration"
   ]
  },
  {
   "cell_type": "code",
   "execution_count": null,
   "metadata": {},
   "outputs": [],
   "source": [
    "while left <= right:\n",
    "        mid = (left + right) // 2  # Find middle index\n",
    "        print(f\"Searching between indices {left} and {right}, middle index is {mid}, value at mid is {arr[mid]}\")\n",
    "        if arr[mid] == target:\n",
    "            return mid, arr[mid]  # Return index and the value at mid\n",
    "        elif arr[mid] < target:\n",
    "            left = mid + 1  # Search right half\n",
    "        else:\n",
    "            right = mid - 1  # Search left half"
   ]
  },
  {
   "cell_type": "markdown",
   "metadata": {},
   "source": [
    "The while loop above, iterates until the ```right``` value is less than the ```left``` value."
   ]
  },
  {
   "cell_type": "markdown",
   "metadata": {},
   "source": [
    "# Binary Search vs. Linear Search\n",
    "\n",
    "Both **binary search** and **linear search** are algorithms used to find an element in a collection of data. However, they differ significantly in their approach, time complexity, and efficiency.\n",
    "\n",
    "## 1. **Linear Search**\n",
    "- **How it works**: \n",
    "  - Linear search checks each element in the list one by one, from the beginning to the end, until it finds the target element or reaches the end of the list.\n",
    "  \n",
    "- **Best Case**: \n",
    "  - If the element is found at the very first position, the search takes **O(1)** time.\n",
    "\n",
    "- **Worst Case**: \n",
    "  - If the element is at the last position or not in the list at all, the search takes **O(n)** time, where **n** is the number of elements in the list.\n",
    "\n",
    "- **Efficiency**: \n",
    "  - Linear search is simple but not very efficient, especially when dealing with large datasets because it may have to check every element.\n",
    "\n",
    "## 2. **Binary Search**\n",
    "- **How it works**: \n",
    "  - Binary search works only on **sorted** arrays or lists. It repeatedly divides the search interval in half. \n",
    "  - If the value of the target element is less than the element in the middle of the interval, the search continues in the left half; otherwise, it continues in the right half. \n",
    "  - This process continues until the element is found or the interval is empty.\n",
    "  \n",
    "- **Best Case**: \n",
    "  - If the middle element is the target, it takes **O(1)** time.\n",
    "  \n",
    "- **Worst Case**: \n",
    "  - In the worst case, binary search cuts the search space in half each time, so it takes **O(log n)** time, where **n** is the number of elements in the list.\n",
    "  \n",
    "- **Efficiency**: \n",
    "  - Binary search is much more efficient than linear search when dealing with large datasets, especially because it reduces the search space exponentially.\n",
    "\n",
    "---\n",
    "\n",
    "## Big O Notation\n",
    "\n",
    "Big O notation is used to describe the **time complexity** of an algorithm, which tells us how the running time of the algorithm increases as the size of the input increases. It provides an upper bound on the growth rate of an algorithm's execution time.\n",
    "\n",
    "### **O(log n)**\n",
    "- **Definition**: \n",
    "  - The term **O(log n)** means that the algorithm's execution time grows logarithmically as the input size increases. Specifically, the time to run the algorithm increases by a constant amount for each doubling of the input size.\n",
    "  \n",
    "- **Example in Binary Search**: \n",
    "  - In binary search, every time you divide the search space in half, you're reducing the number of elements you need to check. For a list of size **n**, it takes roughly **log₂ n** steps to find the element (or determine it's not there).\n",
    "  \n",
    "- **How efficient is O(log n)?**: \n",
    "  - An algorithm with **O(log n)** complexity is **very efficient**, especially when compared to **O(n)** (linear search) or even **O(n²)** (for example, bubble sort). For large datasets, algorithms with logarithmic time complexity are much faster.\n",
    "\n",
    "---\n",
    "\n",
    "## Efficiency Comparison\n",
    "\n",
    "- **Linear Search**: O(n)  \n",
    "  If the list has **n** elements, linear search may check each element one by one, so the running time increases linearly with the size of the input.\n",
    "\n",
    "- **Binary Search**: O(log n)  \n",
    "  Binary search, on the other hand, divides the problem in half with each step. So, even for a list of 1 million elements, it only takes around **log₂(1,000,000)** ≈ **20 steps** to find an element (assuming it's sorted). This is extremely efficient, especially when compared to linear search.\n",
    "\n",
    "### Efficiency Example:\n",
    "- **For n = 1,000**:\n",
    "  - **Linear Search**: Might need to check all 1000 elements, so **O(n) = 1000** comparisons.\n",
    "  - **Binary Search**: Would only need **log₂(1000) ≈ 10** comparisons.\n",
    "  \n",
    "- **For n = 1,000,000**:\n",
    "  - **Linear Search**: Might need to check all 1 million elements, so **O(n) = 1,000,000** comparisons.\n",
    "  - **Binary Search**: Would only need **log₂(1,000,000) ≈ 20** comparisons.\n",
    "\n",
    "### Summary of Comparison:\n",
    "- **Linear Search**: Simple, but slow for large lists. O(n) time complexity.\n",
    "- **Binary Search**: Requires sorted data, but it's much faster for large lists. O(log n) time complexity.\n",
    "\n",
    "In conclusion, binary search is vastly more efficient than linear search for large datasets, especially when sorting is already done or can be done once."
   ]
  },
  {
   "cell_type": "markdown",
   "metadata": {},
   "source": [
    "# Real World Examples of Binary Search"
   ]
  },
  {
   "cell_type": "markdown",
   "metadata": {},
   "source": [
    "## Example 1: Phone Book\n",
    " -   If you’re looking for Smith in a phone book, you wouldn’t start from \"A\" and scan each page, right? That just sounds dumb and silly!\n",
    "        Instead, you...\n",
    "        1.  Open to the middle\n",
    "        2.  Check the name, if it's before Smith, search the right half, and if its after, search the left half\n",
    "        3.  Repeat until found\n",
    "    -   This is **binary search**, where you **halve the search space** at each step\n",
    "\n",
    "## Example 2: Dictionary\n",
    "    -   Looking for Cat? Flip to the middle of the dictionary\n",
    "    -   If you see Dog, move left\n",
    "    -   If you see Ant, move right\n",
    "    -   Continue until you find Cat\n",
    "\n",
    "Again, this is also an example of Binary Search because you are splitting the list by half until you find what you want.\n",
    "\n",
    "But how does this work computationally?"
   ]
  },
  {
   "cell_type": "markdown",
   "metadata": {},
   "source": [
    "# A Computational Comparison"
   ]
  },
  {
   "cell_type": "markdown",
   "metadata": {},
   "source": [
    "Lets first see how much faster binary search is in a real world example."
   ]
  },
  {
   "cell_type": "code",
   "execution_count": 5,
   "metadata": {},
   "outputs": [
    {
     "name": "stdout",
     "output_type": "stream",
     "text": [
      "Linear Search Time: 0.012106 seconds\n",
      "Binary Search Time: 0.000065 seconds\n",
      "Speedup Factor: 186.68x faster\n"
     ]
    }
   ],
   "source": [
    "import time\n",
    "import random\n",
    "\n",
    "numbers = list(range(1, 1000000))\n",
    "\n",
    "target = random.choice(numbers)\n",
    "\n",
    "# Linear Search\n",
    "def linear_search(arr, target):\n",
    "    for i in range(len(arr)):\n",
    "        if arr[i] == target:\n",
    "            return i\n",
    "    return -1\n",
    "\n",
    "# Binary Search\n",
    "def binary_search(arr, target):\n",
    "    left, right = 0, len(arr) - 1\n",
    "    while left <= right:\n",
    "        mid = (left + right) // 2\n",
    "        if arr[mid] == target:\n",
    "            return mid\n",
    "        elif arr[mid] < target:\n",
    "            left = mid + 1\n",
    "        else:\n",
    "            right = mid - 1\n",
    "    return -1\n",
    "\n",
    "# Measure time for Linear Search\n",
    "start_time = time.time()\n",
    "linear_search(numbers, target)\n",
    "linear_time = time.time() - start_time\n",
    "\n",
    "# Measure time for Binary Search\n",
    "start_time = time.time()\n",
    "binary_search(numbers, target)\n",
    "binary_time = time.time() - start_time\n",
    "\n",
    "print(f\"Linear Search Time: {linear_time:.6f} seconds\")\n",
    "print(f\"Binary Search Time: {binary_time:.6f} seconds\")\n",
    "print(f\"Speedup Factor: {linear_time / binary_time:.2f}x faster\")\n"
   ]
  },
  {
   "cell_type": "markdown",
   "metadata": {},
   "source": [
    "While this may not seem like a large factor, as the lists get larger and larger (1,000,000 is actually quite small for data), binary search becomes more and more important."
   ]
  },
  {
   "cell_type": "markdown",
   "metadata": {},
   "source": [
    "## Let's see this in a tabulated format now"
   ]
  },
  {
   "cell_type": "markdown",
   "metadata": {},
   "source": [
    "### **Comparison: Binary Search vs. Linear Search**\n",
    "| **Search Type** | **Best Case** | **Average Case** | **Worst Case** |\n",
    "|---------------|--------------|--------------|--------------|\n",
    "| **Linear Search** | \\(O(1)\\) (first element) | \\(O(n)\\) | \\(O(n)\\) (last element) |\n",
    "| **Binary Search** | \\(O(1)\\) (middle element) | \\(O(\\log n)\\) | \\(O(\\log n)\\) |\n",
    "\n",
    "🔹 **Example with 1,000,000 numbers:**  \n",
    "- **Linear Search** → **Worst case: 1,000,000 steps**  \n",
    "- **Binary Search** → **Worst case: \\( \\log_2 1,000,000 \\approx 20 \\) steps**  \n",
    "- **Speedup:** Binary search is ~50,000x faster in this case."
   ]
  },
  {
   "cell_type": "markdown",
   "metadata": {},
   "source": [
    "### **Practice: Binary Search Popcorn Hacks (Multiple Choice)**\n",
    "[![Button](https://img.shields.io/badge/Click%20Me-blue?style=for-the-badge)](https://forms.gle/558eBq5xyHdZkLMk9)"
   ]
  },
  {
   "cell_type": "markdown",
   "metadata": {},
   "source": [
    "# Homework Problems:\n",
    "\n",
    "## Homework Hack 2: Binary Search on a Rotated Array\n",
    "Description:\n",
    "You are given a sorted array that has been rotated at some unknown pivot. Write a function that uses Binary Search to find a target element in this rotated array. If the element is found, return its index. If not, return -1.\n",
    "\n",
    "#### Example:\n",
    "Input:\n",
    "\n",
    "``` python\n",
    "arr = [4, 5, 6, 7, 0, 1, 2]\n",
    "target = 1\n",
    "Output:\n",
    "```\n",
    "``` python\n",
    "5\n",
    "```\n",
    "\n",
    "## Homework Hack 2: Find the First and Last Occurrence of an Element\n",
    "Description:\n",
    "Write a function that uses binary search to find the first and last occurrence(find the index of the ) of a given target element in a sorted array. If the element is not present, return -1. U\n",
    "\n",
    "\n",
    "#### Example:\n",
    "Input:\n",
    "\n",
    "``` python\n",
    "\n",
    "arr = [1, 2, 2, 2, 3, 4, 5]\n",
    "target = 2\n",
    "```\n",
    "Output:\n",
    "``` python\n",
    "(1, 3)\n",
    "```\n",
    "\n",
    "## Homework Hack 3: Search for the Smallest Element\n",
    "Description:\n",
    "You are given a sorted array of integers. Write a function that uses Binary Search to find the smallest element that is greater than or equal to the target. If that an element doesnt exist, return -1.\n",
    "\n",
    "#### Example:\n",
    "Input:\n",
    "``` python\n",
    "Copy\n",
    "arr = [1, 3, 5, 7, 9, 11]\n",
    "target = 8\n",
    "```\n",
    "\n",
    "Output:\n",
    "\n",
    "``` python\n",
    "\n",
    "9\n",
    "```"
   ]
  }
 ],
 "metadata": {
  "kernelspec": {
   "display_name": "Python 3",
   "language": "python",
   "name": "python3"
  },
  "language_info": {
   "codemirror_mode": {
    "name": "ipython",
    "version": 3
   },
   "file_extension": ".py",
   "mimetype": "text/x-python",
   "name": "python",
   "nbconvert_exporter": "python",
   "pygments_lexer": "ipython3",
   "version": "3.12.3"
  }
 },
 "nbformat": 4,
 "nbformat_minor": 2
}
