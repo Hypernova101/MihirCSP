{
 "cells": [
  {
   "cell_type": "raw",
   "metadata": {
    "vscode": {
     "languageId": "raw"
    }
   },
   "source": [
    "---\n",
    "toc: true\n",
    "comments: true\n",
    "layout: post\n",
    "type: hacks\n",
    "courses: { compsci: {week: 25} }\n",
    "title: Binary Search Team Teach\n",
    "description: Lessons on Binary Search\n",
    "---"
   ]
  },
  {
   "cell_type": "markdown",
   "metadata": {},
   "source": [
    "# Binary Search Algorithm\n",
    "Binary search is an efficient searching algorithm used to find an element in a **sorted** list. It works by repeatedly dividing the search space in half until the target element is found or the search space is empty.\n",
    "## **How Binary Search Works**\n",
    "1. Find the **middle element** of the list.\n",
    "2. If the middle element is the target, return its index.\n",
    "3. If the target is **less** than the middle element, search in the **left half**.\n",
    "4. If the target is **greater** than the middle element, search in the **right half**.\n",
    "5. Repeat steps 1–4 until the element is found or the search space becomes empty.a"
   ]
  },
  {
   "cell_type": "markdown",
   "metadata": {},
   "source": [
    "## Binary vs Linear Search\n",
    "The time complexity of binary search depends on how many steps it takes to find the target.\n",
    "### Best Case: \\(O(1)\\)\n",
    "- If the middle element is the target, we find it in **one step**.\n",
    "- This is the fastest possible outcome.\n",
    "### **Worst & Average Case: \\(O(\\log n)\\)**\n",
    "- Each time we check the middle element, we **cut the remaining search space in half**.\n",
    "- If we start with \\( n \\) elements, the number of times we can halve it before only one element remains is about **\\(\\log_2 n\\)**.\n",
    "- This means that even for a **huge list**, we only need a few steps.\n",
    "### **Why Is This Fast?**\n",
    "| **Number of Elements (n)** | **Maximum Steps (log₂ n)** |\n",
    "|----------------------------|---------------------------|\n",
    "| 8                          | 3                         |\n",
    "| 16                         | 4                         |\n",
    "| 32                         | 5                         |\n",
    "| 1,024                      | 10                        |\n",
    "| 1,048,576 (1 million)      | 20                        |\n",
    "- Even with **1 million elements**, we only need **20 steps** to find the target.\n",
    "- Compare this to a **linear search** \\(O(n)\\), which may take up to 1 million steps!\n",
    "Binary search is fast because it **eliminates half of the data** at each step, making it much better than checking each element one by one."
   ]
  },
  {
   "cell_type": "markdown",
   "metadata": {},
   "source": [
    "# Binary Search Algorithm with Recursive implementation\n",
    "def binary_search(arr, target):\n",
    "    left, right = 0, len(arr) - 1\n",
    "    while left <= right:\n",
    "        mid = (left + right) // 2  # Find middle index\n",
    "        print(f\"Searching between indices {left} and {right}, middle index is {mid}, value at mid is {arr[mid]}\")\n",
    "        if arr[mid] == target:\n",
    "            return mid, arr[mid]  # Return index and the value at mid\n",
    "        elif arr[mid] < target:\n",
    "            left = mid + 1  # Search right half\n",
    "        else:\n",
    "            right = mid - 1  # Search left half\n",
    "    return -1, None  # Element not found\n",
    "# Example usage:\n",
    "arr = [1, 3, 5, 7, 9, 11, 13]\n",
    "target = 3\n",
    "index, value = binary_search(arr, target)\n",
    "print(f\"Target found at index {index}, value is {value}\")  # Output: index and value of 3\n"
   ]
  },
  {
   "cell_type": "markdown",
   "metadata": {},
   "source": [
    "### **Code Breakdown**\n",
    "#### **Initial Setup**:\n",
    "- `left = 0, right = len(arr) - 1`: Defines the search range (entire array initially).\n",
    "#### **While Loop** (`while left <= right`):\n",
    "- Repeats as long as the search range is valid.\n",
    "#### **Middle Element Calculation**:\n",
    "- `mid = (left + right) // 2`: Finds the middle index of the current range.\n",
    "#### **Search Process**:\n",
    "- **If** `arr[mid] == target`: Target found, return the index and value.\n",
    "- **If** `arr[mid] < target`: Search the right half by updating `left` to `mid + 1`.\n",
    "- **If** `arr[mid] > target`: Search the left half by updating `right` to `mid - 1`.\n",
    "#### **Return**:\n",
    "- If the target is not found, return `-1` and `None`.\n",
    "### **Example Walkthrough** (For `arr = [1, 3, 5, 7, 9, 11, 13]` and `target = 3`):\n",
    "1. **First round**:\n",
    "   - Searching between indices 0 and 6. Middle index is 3, value is `7`.\n",
    "   - Since `7 > 3`, search left half (indices 0 to 2).\n",
    "2. **Second round**:\n",
    "   - Searching between indices 0 and 2. Middle index is 1, value is `3`.\n",
    "   - Target found at index 1.\n",
    "### **Key Points**:\n",
    "- Binary Search divides the search range by half in each iteration, making it efficient (**O(log n)** time complexity).\n",
    "- The process is repeated until the target is found or the search range becomes invalid."
   ]
  },
  {
   "cell_type": "markdown",
   "metadata": {},
   "source": [
    "# Binary Search vs. Linear Search\n",
    "\n",
    "Both **binary search** and **linear search** are algorithms used to find an element in a collection of data. However, they differ significantly in their approach, time complexity, and efficiency.\n",
    "\n",
    "## 1. **Linear Search**\n",
    "- **How it works**: \n",
    "  - Linear search checks each element in the list one by one, from the beginning to the end, until it finds the target element or reaches the end of the list.\n",
    "  \n",
    "- **Best Case**: \n",
    "  - If the element is found at the very first position, the search takes **O(1)** time.\n",
    "\n",
    "- **Worst Case**: \n",
    "  - If the element is at the last position or not in the list at all, the search takes **O(n)** time, where **n** is the number of elements in the list.\n",
    "\n",
    "- **Efficiency**: \n",
    "  - Linear search is simple but not very efficient, especially when dealing with large datasets because it may have to check every element.\n",
    "\n",
    "## 2. **Binary Search**\n",
    "- **How it works**: \n",
    "  - Binary search works only on **sorted** arrays or lists. It repeatedly divides the search interval in half. \n",
    "  - If the value of the target element is less than the element in the middle of the interval, the search continues in the left half; otherwise, it continues in the right half. \n",
    "  - This process continues until the element is found or the interval is empty.\n",
    "  \n",
    "- **Best Case**: \n",
    "  - If the middle element is the target, it takes **O(1)** time.\n",
    "  \n",
    "- **Worst Case**: \n",
    "  - In the worst case, binary search cuts the search space in half each time, so it takes **O(log n)** time, where **n** is the number of elements in the list.\n",
    "  \n",
    "- **Efficiency**: \n",
    "  - Binary search is much more efficient than linear search when dealing with large datasets, especially because it reduces the search space exponentially.\n",
    "\n",
    "---\n",
    "\n",
    "## Big O Notation\n",
    "\n",
    "Big O notation is used to describe the **time complexity** of an algorithm, which tells us how the running time of the algorithm increases as the size of the input increases. It provides an upper bound on the growth rate of an algorithm's execution time.\n",
    "\n",
    "### **O(log n)**\n",
    "- **Definition**: \n",
    "  - The term **O(log n)** means that the algorithm's execution time grows logarithmically as the input size increases. Specifically, the time to run the algorithm increases by a constant amount for each doubling of the input size.\n",
    "  \n",
    "- **Example in Binary Search**: \n",
    "  - In binary search, every time you divide the search space in half, you're reducing the number of elements you need to check. For a list of size **n**, it takes roughly **log₂ n** steps to find the element (or determine it's not there).\n",
    "  \n",
    "- **How efficient is O(log n)?**: \n",
    "  - An algorithm with **O(log n)** complexity is **very efficient**, especially when compared to **O(n)** (linear search) or even **O(n²)** (for example, bubble sort). For large datasets, algorithms with logarithmic time complexity are much faster.\n",
    "\n",
    "---\n",
    "\n",
    "## Efficiency Comparison\n",
    "\n",
    "- **Linear Search**: O(n)  \n",
    "  If the list has **n** elements, linear search may check each element one by one, so the running time increases linearly with the size of the input.\n",
    "\n",
    "- **Binary Search**: O(log n)  \n",
    "  Binary search, on the other hand, divides the problem in half with each step. So, even for a list of 1 million elements, it only takes around **log₂(1,000,000)** ≈ **20 steps** to find an element (assuming it's sorted). This is extremely efficient, especially when compared to linear search.\n",
    "\n",
    "### Efficiency Example:\n",
    "- **For n = 1,000**:\n",
    "  - **Linear Search**: Might need to check all 1000 elements, so **O(n) = 1000** comparisons.\n",
    "  - **Binary Search**: Would only need **log₂(1000) ≈ 10** comparisons.\n",
    "  \n",
    "- **For n = 1,000,000**:\n",
    "  - **Linear Search**: Might need to check all 1 million elements, so **O(n) = 1,000,000** comparisons.\n",
    "  - **Binary Search**: Would only need **log₂(1,000,000) ≈ 20** comparisons.\n",
    "\n",
    "### Summary of Comparison:\n",
    "- **Linear Search**: Simple, but slow for large lists. O(n) time complexity.\n",
    "- **Binary Search**: Requires sorted data, but it's much faster for large lists. O(log n) time complexity.\n",
    "\n",
    "In conclusion, binary search is vastly more efficient than linear search for large datasets, especially when sorting is already done or can be done once."
   ]
  },
  {
   "cell_type": "markdown",
   "metadata": {},
   "source": [
    "# Real World Examples of Binary Search"
   ]
  },
  {
   "cell_type": "markdown",
   "metadata": {},
   "source": [
    "## Example 1: Phone Book\n",
    " -   If you’re looking for Smith in a phone book, you wouldn’t start from \"A\" and scan each page, right? That just sounds dumb and silly!\n",
    "        Instead, you...\n",
    "        1.  Open to the middle\n",
    "        2.  Check the name, if it's before Smith, search the right half, and if its after, search the left half\n",
    "        3.  Repeat until found\n",
    "    -   This is **binary search**, where you **halve the search space** at each step\n",
    "\n",
    "## Example 2: Dictionary\n",
    "    -   Looking for Cat? Flip to the middle of the dictionary\n",
    "    -   If you see Dog, move left\n",
    "    -   If you see Ant, move right\n",
    "    -   Continue until you find Cat\n",
    "\n",
    "Again, this is also an example of Binary Search because you are splitting the list by half until you find what you want.\n",
    "\n",
    "But how does this work computationally?"
   ]
  },
  {
   "cell_type": "markdown",
   "metadata": {},
   "source": [
    "# A Computational Comparison"
   ]
  },
  {
   "cell_type": "markdown",
   "metadata": {},
   "source": [
    "Lets first see how much faster binary search is in a real world example."
   ]
  },
  {
   "cell_type": "code",
   "execution_count": 6,
   "metadata": {},
   "outputs": [
    {
     "name": "stdout",
     "output_type": "stream",
     "text": [
      "Linear Search Time: 0.015503 seconds\n",
      "Binary Search Time: 0.000032 seconds\n",
      "Speedup Factor: 488.90x faster\n"
     ]
    }
   ],
   "source": [
    "import time\n",
    "import random\n",
    "\n",
    "numbers = list(range(1, 1000000))\n",
    "\n",
    "target = random.choice(numbers)\n",
    "\n",
    "# Linear Search\n",
    "def linear_search(arr, target):\n",
    "    for i in range(len(arr)):\n",
    "        if arr[i] == target:\n",
    "            return i\n",
    "    return -1\n",
    "\n",
    "# Binary Search\n",
    "def binary_search(arr, target):\n",
    "    left, right = 0, len(arr) - 1\n",
    "    while left <= right:\n",
    "        mid = (left + right) // 2\n",
    "        if arr[mid] == target:\n",
    "            return mid\n",
    "        elif arr[mid] < target:\n",
    "            left = mid + 1\n",
    "        else:\n",
    "            right = mid - 1\n",
    "    return -1\n",
    "\n",
    "# Measure time for Linear Search\n",
    "start_time = time.time()\n",
    "linear_search(numbers, target)\n",
    "linear_time = time.time() - start_time\n",
    "\n",
    "# Measure time for Binary Search\n",
    "start_time = time.time()\n",
    "binary_search(numbers, target)\n",
    "binary_time = time.time() - start_time\n",
    "\n",
    "print(f\"Linear Search Time: {linear_time:.6f} seconds\")\n",
    "print(f\"Binary Search Time: {binary_time:.6f} seconds\")\n",
    "print(f\"Speedup Factor: {linear_time / binary_time:.2f}x faster\")\n"
   ]
  },
  {
   "cell_type": "markdown",
   "metadata": {},
   "source": [
    "While this may not seem like a large factor, as the lists get larger and larger (1,000,000 is actually quite small for data), binary search becomes more and more important."
   ]
  },
  {
   "cell_type": "markdown",
   "metadata": {},
   "source": [
    "## Let's see this in a tabulated format now"
   ]
  },
  {
   "cell_type": "markdown",
   "metadata": {},
   "source": [
    "### **Comparison: Binary Search vs. Linear Search**\n",
    "| **Search Type** | **Best Case** | **Average Case** | **Worst Case** |\n",
    "|---------------|--------------|--------------|--------------|\n",
    "| **Linear Search** | \\(O(1)\\) (first element) | \\(O(n)\\) | \\(O(n)\\) (last element) |\n",
    "| **Binary Search** | \\(O(1)\\) (middle element) | \\(O(\\log n)\\) | \\(O(\\log n)\\) |\n",
    "\n",
    "🔹 **Example with 1,000,000 numbers:**  \n",
    "- **Linear Search** → **Worst case: 1,000,000 steps**  \n",
    "- **Binary Search** → **Worst case: \\( \\log_2 1,000,000 \\approx 20 \\) steps**  \n",
    "- **Speedup:** Binary search is ~50,000x faster in this case."
   ]
  },
  {
   "cell_type": "markdown",
   "metadata": {},
   "source": [
    "### **Practice: Binary Search Popcorn Hacks (Multiple Choice)**\n",
    "[![Button](https://img.shields.io/badge/Click%20Me-blue?style=for-the-badge)](https://forms.gle/558eBq5xyHdZkLMk9)"
   ]
  },
  {
   "cell_type": "markdown",
   "metadata": {},
   "source": [
    "# Homework Problems:\n",
    "### **Problem 1: Basic Binary Search**\n",
    "- Given the sorted array:"
   ]
  },
  {
   "cell_type": "code",
   "execution_count": 7,
   "metadata": {},
   "outputs": [],
   "source": [
    "arr = [1, 3, 5, 7, 9, 11, 13]"
   ]
  },
  {
   "cell_type": "markdown",
   "metadata": {},
   "source": [
    " Use binary search to find the index of 7. Return the index of the element if found. If the target is not in the array, return -1."
   ]
  },
  {
   "cell_type": "markdown",
   "metadata": {},
   "source": [
    "### **Problem 2: Recursive Binary Search**\n",
    "- Implement the binary search function recursively. Given the array:"
   ]
  },
  {
   "cell_type": "code",
   "execution_count": null,
   "metadata": {},
   "outputs": [],
   "source": [
    "arr = [10, 20, 30, 40, 50, 60, 70, 80]"
   ]
  },
  {
   "cell_type": "markdown",
   "metadata": {},
   "source": [
    "- Use your recursive binary search function to find the index of 30. If the target is found, return its index, otherwise return -1"
   ]
  },
  {
   "cell_type": "markdown",
   "metadata": {},
   "source": [
    "## Hints:\n",
    "### **Problem 1: Basic Binary Search**\n",
    "- Given the sorted array:"
   ]
  },
  {
   "cell_type": "code",
   "execution_count": null,
   "metadata": {},
   "outputs": [],
   "source": [
    "arr = [1, 3, 5, 7, 9, 11, 13]"
   ]
  },
  {
   "cell_type": "markdown",
   "metadata": {},
   "source": [
    "- To find the index of 7 using binary search:\n",
    "1. Initial left = 0, right = 6 (length of the array minus 1).\n",
    "2. Middle index is (0 + 6) // 2 = 3, value at index 3 is 7, which matches the target.\n",
    "3. Return the index 3.\n",
    "4. Answer: The index of 7 is 3."
   ]
  },
  {
   "cell_type": "markdown",
   "metadata": {},
   "source": [
    "### **Problem 2: Recursive Binary Search**\n",
    "- Implement the binary search function recursively. Given the array:"
   ]
  },
  {
   "cell_type": "code",
   "execution_count": null,
   "metadata": {},
   "outputs": [],
   "source": [
    "arr = [10, 20, 30, 40, 50, 60, 70, 80]"
   ]
  },
  {
   "cell_type": "markdown",
   "metadata": {},
   "source": [
    "Implementing a recursive binary search function, we search for the target 30:\n",
    "1. First call:\n",
    "    - left = 0, right = 7\n",
    "    - Middle index mid = (0 + 7) // 2 = 3, value at index 3 is 40, which is greater than 30.\n",
    "    - Search the left half by setting right = mid - 1 = 2.\n",
    "2. Second call:\n",
    "    - left = 0, right = 2\n",
    "    - Middle index mid = (0 + 2) // 2 = 1, value at index 1 is 20, which is less than 30.\n",
    "    - Search the right half by setting left = mid + 1 = 2.\n",
    "3. Third call:\n",
    "    - left = 2, right = 2\n",
    "    - Middle index mid = (2 + 2) // 2 = 2, value at index 2 is 30, which matches the target.\n",
    "    - Answer: The index of 30 is 2."
   ]
  }
 ],
 "metadata": {
  "kernelspec": {
   "display_name": "venv",
   "language": "python",
   "name": "python3"
  },
  "language_info": {
   "codemirror_mode": {
    "name": "ipython",
    "version": 3
   },
   "file_extension": ".py",
   "mimetype": "text/x-python",
   "name": "python",
   "nbconvert_exporter": "python",
   "pygments_lexer": "ipython3",
   "version": "3.12.3"
  }
 },
 "nbformat": 4,
 "nbformat_minor": 2
}
