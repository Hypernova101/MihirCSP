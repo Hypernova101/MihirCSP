{
 "cells": [
  {
   "cell_type": "raw",
   "id": "85c5260f",
   "metadata": {
    "vscode": {
     "languageId": "raw"
    }
   },
   "source": [
    "---\n",
    "toc: true\n",
    "comments: false\n",
    "layout: post\n",
    "type: hacks\n",
    "courses: { compsci: {week: 26} }\n",
    "title: Lists\n",
    "---"
   ]
  },
  {
   "cell_type": "code",
   "execution_count": 1,
   "id": "ba2d32a2",
   "metadata": {},
   "outputs": [
    {
     "name": "stdout",
     "output_type": "stream",
     "text": [
      "Requirement already satisfied: pandas in /home/mihirunix/nighthawk/MihirCSP/.venv/lib/python3.12/site-packages (2.2.3)\n",
      "Requirement already satisfied: numpy>=1.26.0 in /home/mihirunix/nighthawk/MihirCSP/.venv/lib/python3.12/site-packages (from pandas) (2.2.4)\n",
      "Requirement already satisfied: python-dateutil>=2.8.2 in /home/mihirunix/nighthawk/MihirCSP/.venv/lib/python3.12/site-packages (from pandas) (2.9.0.post0)\n",
      "Requirement already satisfied: pytz>=2020.1 in /home/mihirunix/nighthawk/MihirCSP/.venv/lib/python3.12/site-packages (from pandas) (2025.2)\n",
      "Requirement already satisfied: tzdata>=2022.7 in /home/mihirunix/nighthawk/MihirCSP/.venv/lib/python3.12/site-packages (from pandas) (2025.2)\n",
      "Requirement already satisfied: six>=1.5 in /home/mihirunix/nighthawk/MihirCSP/.venv/lib/python3.12/site-packages (from python-dateutil>=2.8.2->pandas) (1.17.0)\n"
     ]
    }
   ],
   "source": [
    "# uncomment the following line to install the pandas library\n",
    "!pip install pandas \n",
    "\n",
    "'''Pandas is used to gather data sets through its DataFrames implementation'''\n",
    "import pandas as pd"
   ]
  },
  {
   "cell_type": "markdown",
   "id": "7372bd9f",
   "metadata": {},
   "source": [
    "# Popcorn Hack 1"
   ]
  },
  {
   "cell_type": "code",
   "execution_count": 2,
   "id": "22145676",
   "metadata": {},
   "outputs": [
    {
     "name": "stdout",
     "output_type": "stream",
     "text": [
      "     Name  Score Grade\n",
      "1     Bob     88     B\n",
      "4    Emma     84     B\n",
      "6  George     89     B\n"
     ]
    }
   ],
   "source": [
    "import pandas as pd\n",
    "\n",
    "# Example student data\n",
    "student_data = pd.DataFrame({\n",
    "    'Name': ['Alice', 'Bob', 'Charlie', 'David', 'Emma', 'Fiona', 'George'],\n",
    "    'Score': [95, 88, 76, 92, 84, 67, 89],\n",
    "    'Grade': ['A', 'B', 'C', 'A', 'B', 'D', 'B']\n",
    "})\n",
    "\n",
    "# print(student_data)\n",
    "\n",
    "def find_students_in_range(df, min_score, max_score):\n",
    "    return df[(df['Score'] >= min_score) & (df['Score'] <= max_score)]\n",
    "\n",
    "# Test\n",
    "result = find_students_in_range(student_data, 80, 90)\n",
    "print(result)"
   ]
  },
  {
   "cell_type": "markdown",
   "id": "8be98bdc",
   "metadata": {},
   "source": [
    "# Popcorn Hack 2"
   ]
  },
  {
   "cell_type": "code",
   "execution_count": 3,
   "id": "d4f3eb10",
   "metadata": {},
   "outputs": [
    {
     "name": "stdout",
     "output_type": "stream",
     "text": [
      "      Name  Score Grade Letter\n",
      "0    Alice     95     A      A\n",
      "1      Bob     88     B      B\n",
      "2  Charlie     76     C      C\n",
      "3    David     92     A      A\n",
      "4     Emma     84     B      B\n",
      "5    Fiona     67     D      D\n",
      "6   George     89     B      B\n"
     ]
    }
   ],
   "source": [
    "def add_letter_grades(df):\n",
    "    def letter(score):\n",
    "        if score >= 90:\n",
    "            return 'A'\n",
    "        elif score >= 80:\n",
    "            return 'B'\n",
    "        elif score >= 70:\n",
    "            return 'C'\n",
    "        elif score >= 60:\n",
    "            return 'D'\n",
    "        else:\n",
    "            return 'F'\n",
    "    \n",
    "    df['Letter'] = df['Score'].apply(letter)\n",
    "    return df\n",
    "\n",
    "# Test\n",
    "graded = add_letter_grades(student_data)\n",
    "print(graded)\n"
   ]
  },
  {
   "cell_type": "markdown",
   "id": "54796912",
   "metadata": {},
   "source": [
    "# Popcorn Hack 3"
   ]
  },
  {
   "cell_type": "code",
   "execution_count": 4,
   "id": "9cc0e205",
   "metadata": {},
   "outputs": [
    {
     "name": "stdout",
     "output_type": "stream",
     "text": [
      "Mode: 2\n"
     ]
    }
   ],
   "source": [
    "def find_mode(series):\n",
    "    return series.mode().iloc[0] if not series.mode().empty else None\n",
    "\n",
    "# Test\n",
    "mode = find_mode(pd.Series([1, 2, 2, 3, 4, 2, 5]))\n",
    "print(\"Mode:\", mode)\n"
   ]
  },
  {
   "cell_type": "markdown",
   "id": "5d3c097c",
   "metadata": {},
   "source": [
    "---"
   ]
  },
  {
   "cell_type": "markdown",
   "id": "b270e0f9",
   "metadata": {},
   "source": [
    "## General Setup"
   ]
  },
  {
   "cell_type": "code",
   "execution_count": 13,
   "id": "46224346",
   "metadata": {},
   "outputs": [
    {
     "data": {
      "text/html": [
       "<div>\n",
       "<style scoped>\n",
       "    .dataframe tbody tr th:only-of-type {\n",
       "        vertical-align: middle;\n",
       "    }\n",
       "\n",
       "    .dataframe tbody tr th {\n",
       "        vertical-align: top;\n",
       "    }\n",
       "\n",
       "    .dataframe thead th {\n",
       "        text-align: right;\n",
       "    }\n",
       "</style>\n",
       "<table border=\"1\" class=\"dataframe\">\n",
       "  <thead>\n",
       "    <tr style=\"text-align: right;\">\n",
       "      <th></th>\n",
       "      <th>zone</th>\n",
       "      <th>area</th>\n",
       "      <th>sub_area</th>\n",
       "      <th>pole</th>\n",
       "      <th>config_id</th>\n",
       "      <th>config_name</th>\n",
       "      <th>date_inventory</th>\n",
       "      <th>lat</th>\n",
       "      <th>lng</th>\n",
       "      <th>sapid</th>\n",
       "    </tr>\n",
       "  </thead>\n",
       "  <tbody>\n",
       "    <tr>\n",
       "      <th>0</th>\n",
       "      <td>Downtown</td>\n",
       "      <td>Core</td>\n",
       "      <td>1000 FIRST AVE</td>\n",
       "      <td>1-1004</td>\n",
       "      <td>49382</td>\n",
       "      <td>Sunday Mode</td>\n",
       "      <td>2021-01-04 00:00:00</td>\n",
       "      <td>32.715904</td>\n",
       "      <td>-117.163929</td>\n",
       "      <td>SS-000031</td>\n",
       "    </tr>\n",
       "    <tr>\n",
       "      <th>1</th>\n",
       "      <td>Downtown</td>\n",
       "      <td>Core - Columbia</td>\n",
       "      <td>1000 FIRST AVE</td>\n",
       "      <td>1-1004</td>\n",
       "      <td>9000</td>\n",
       "      <td>2 Hour Max $1.25 HR 8am-6pm Mon-Sat (NFC)</td>\n",
       "      <td>2018-11-11 00:00:00</td>\n",
       "      <td>32.715904</td>\n",
       "      <td>-117.163929</td>\n",
       "      <td>SS-000031</td>\n",
       "    </tr>\n",
       "    <tr>\n",
       "      <th>2</th>\n",
       "      <td>Downtown</td>\n",
       "      <td>Core</td>\n",
       "      <td>1000 FIRST AVE</td>\n",
       "      <td>1-1006</td>\n",
       "      <td>49382</td>\n",
       "      <td>Sunday Mode</td>\n",
       "      <td>2021-01-04 00:00:00</td>\n",
       "      <td>32.716037</td>\n",
       "      <td>-117.163930</td>\n",
       "      <td>SS-000031</td>\n",
       "    </tr>\n",
       "    <tr>\n",
       "      <th>3</th>\n",
       "      <td>Downtown</td>\n",
       "      <td>Core - Columbia</td>\n",
       "      <td>1000 FIRST AVE</td>\n",
       "      <td>1-1006</td>\n",
       "      <td>9000</td>\n",
       "      <td>2 Hour Max $1.25 HR 8am-6pm Mon-Sat (NFC)</td>\n",
       "      <td>2018-11-11 00:00:00</td>\n",
       "      <td>32.716037</td>\n",
       "      <td>-117.163930</td>\n",
       "      <td>SS-000031</td>\n",
       "    </tr>\n",
       "    <tr>\n",
       "      <th>4</th>\n",
       "      <td>Downtown</td>\n",
       "      <td>Core</td>\n",
       "      <td>1000 FIRST AVE</td>\n",
       "      <td>1-1008</td>\n",
       "      <td>49382</td>\n",
       "      <td>Sunday Mode</td>\n",
       "      <td>2021-01-04 00:00:00</td>\n",
       "      <td>32.716169</td>\n",
       "      <td>-117.163931</td>\n",
       "      <td>SS-000031</td>\n",
       "    </tr>\n",
       "  </tbody>\n",
       "</table>\n",
       "</div>"
      ],
      "text/plain": [
       "       zone             area        sub_area    pole  config_id  \\\n",
       "0  Downtown             Core  1000 FIRST AVE  1-1004      49382   \n",
       "1  Downtown  Core - Columbia  1000 FIRST AVE  1-1004       9000   \n",
       "2  Downtown             Core  1000 FIRST AVE  1-1006      49382   \n",
       "3  Downtown  Core - Columbia  1000 FIRST AVE  1-1006       9000   \n",
       "4  Downtown             Core  1000 FIRST AVE  1-1008      49382   \n",
       "\n",
       "                                 config_name       date_inventory        lat  \\\n",
       "0                                Sunday Mode  2021-01-04 00:00:00  32.715904   \n",
       "1  2 Hour Max $1.25 HR 8am-6pm Mon-Sat (NFC)  2018-11-11 00:00:00  32.715904   \n",
       "2                                Sunday Mode  2021-01-04 00:00:00  32.716037   \n",
       "3  2 Hour Max $1.25 HR 8am-6pm Mon-Sat (NFC)  2018-11-11 00:00:00  32.716037   \n",
       "4                                Sunday Mode  2021-01-04 00:00:00  32.716169   \n",
       "\n",
       "          lng      sapid  \n",
       "0 -117.163929  SS-000031  \n",
       "1 -117.163929  SS-000031  \n",
       "2 -117.163930  SS-000031  \n",
       "3 -117.163930  SS-000031  \n",
       "4 -117.163931  SS-000031  "
      ]
     },
     "execution_count": 13,
     "metadata": {},
     "output_type": "execute_result"
    }
   ],
   "source": [
    "import pandas as pd\n",
    "\n",
    "smartpark_df = pd.read_csv('/home/mihirunix/nighthawk/MihirCSP/datasets/treas_parking_meters_loc_datasd.csv')\n",
    "smartpark_df.head()"
   ]
  },
  {
   "cell_type": "markdown",
   "id": "56663ab4",
   "metadata": {},
   "source": [
    "## ✅ Hack 1: Find Configurations Older than a Certain Year\n",
    "\n",
    "Find all entries in the dataset prior to 2019."
   ]
  },
  {
   "cell_type": "code",
   "execution_count": 14,
   "id": "89fbe898",
   "metadata": {},
   "outputs": [
    {
     "data": {
      "text/html": [
       "<div>\n",
       "<style scoped>\n",
       "    .dataframe tbody tr th:only-of-type {\n",
       "        vertical-align: middle;\n",
       "    }\n",
       "\n",
       "    .dataframe tbody tr th {\n",
       "        vertical-align: top;\n",
       "    }\n",
       "\n",
       "    .dataframe thead th {\n",
       "        text-align: right;\n",
       "    }\n",
       "</style>\n",
       "<table border=\"1\" class=\"dataframe\">\n",
       "  <thead>\n",
       "    <tr style=\"text-align: right;\">\n",
       "      <th></th>\n",
       "      <th>zone</th>\n",
       "      <th>area</th>\n",
       "      <th>sub_area</th>\n",
       "      <th>pole</th>\n",
       "      <th>config_id</th>\n",
       "      <th>config_name</th>\n",
       "      <th>date_inventory</th>\n",
       "      <th>lat</th>\n",
       "      <th>lng</th>\n",
       "      <th>sapid</th>\n",
       "    </tr>\n",
       "  </thead>\n",
       "  <tbody>\n",
       "    <tr>\n",
       "      <th>1</th>\n",
       "      <td>Downtown</td>\n",
       "      <td>Core - Columbia</td>\n",
       "      <td>1000 FIRST AVE</td>\n",
       "      <td>1-1004</td>\n",
       "      <td>9000</td>\n",
       "      <td>2 Hour Max $1.25 HR 8am-6pm Mon-Sat (NFC)</td>\n",
       "      <td>2018-11-11</td>\n",
       "      <td>32.715904</td>\n",
       "      <td>-117.163929</td>\n",
       "      <td>SS-000031</td>\n",
       "    </tr>\n",
       "    <tr>\n",
       "      <th>3</th>\n",
       "      <td>Downtown</td>\n",
       "      <td>Core - Columbia</td>\n",
       "      <td>1000 FIRST AVE</td>\n",
       "      <td>1-1006</td>\n",
       "      <td>9000</td>\n",
       "      <td>2 Hour Max $1.25 HR 8am-6pm Mon-Sat (NFC)</td>\n",
       "      <td>2018-11-11</td>\n",
       "      <td>32.716037</td>\n",
       "      <td>-117.163930</td>\n",
       "      <td>SS-000031</td>\n",
       "    </tr>\n",
       "    <tr>\n",
       "      <th>5</th>\n",
       "      <td>Downtown</td>\n",
       "      <td>Core - Columbia</td>\n",
       "      <td>1000 FIRST AVE</td>\n",
       "      <td>1-1008</td>\n",
       "      <td>9000</td>\n",
       "      <td>2 Hour Max $1.25 HR 8am-6pm Mon-Sat (NFC)</td>\n",
       "      <td>2018-11-11</td>\n",
       "      <td>32.716169</td>\n",
       "      <td>-117.163931</td>\n",
       "      <td>SS-000031</td>\n",
       "    </tr>\n",
       "    <tr>\n",
       "      <th>7</th>\n",
       "      <td>Downtown</td>\n",
       "      <td>Core - Columbia</td>\n",
       "      <td>1000 FIRST AVE</td>\n",
       "      <td>1-1020</td>\n",
       "      <td>9115</td>\n",
       "      <td>15 Min Max $1.25 HR 8am-6pm Mon-Sat (NFC)</td>\n",
       "      <td>2018-11-11</td>\n",
       "      <td>32.717890</td>\n",
       "      <td>-117.161278</td>\n",
       "      <td>SS-000031</td>\n",
       "    </tr>\n",
       "    <tr>\n",
       "      <th>9</th>\n",
       "      <td>Downtown</td>\n",
       "      <td>Core - Columbia</td>\n",
       "      <td>1300 FIRST AVE</td>\n",
       "      <td>1-1310</td>\n",
       "      <td>16516</td>\n",
       "      <td>2 Hour Max $1.25 HR 8am-4pm Mon-Fri 4pm-6pm TO...</td>\n",
       "      <td>2018-11-11</td>\n",
       "      <td>32.719024</td>\n",
       "      <td>-117.163951</td>\n",
       "      <td>SS-000028</td>\n",
       "    </tr>\n",
       "  </tbody>\n",
       "</table>\n",
       "</div>"
      ],
      "text/plain": [
       "       zone             area        sub_area    pole  config_id  \\\n",
       "1  Downtown  Core - Columbia  1000 FIRST AVE  1-1004       9000   \n",
       "3  Downtown  Core - Columbia  1000 FIRST AVE  1-1006       9000   \n",
       "5  Downtown  Core - Columbia  1000 FIRST AVE  1-1008       9000   \n",
       "7  Downtown  Core - Columbia  1000 FIRST AVE  1-1020       9115   \n",
       "9  Downtown  Core - Columbia  1300 FIRST AVE  1-1310      16516   \n",
       "\n",
       "                                         config_name date_inventory  \\\n",
       "1          2 Hour Max $1.25 HR 8am-6pm Mon-Sat (NFC)     2018-11-11   \n",
       "3          2 Hour Max $1.25 HR 8am-6pm Mon-Sat (NFC)     2018-11-11   \n",
       "5          2 Hour Max $1.25 HR 8am-6pm Mon-Sat (NFC)     2018-11-11   \n",
       "7          15 Min Max $1.25 HR 8am-6pm Mon-Sat (NFC)     2018-11-11   \n",
       "9  2 Hour Max $1.25 HR 8am-4pm Mon-Fri 4pm-6pm TO...     2018-11-11   \n",
       "\n",
       "         lat         lng      sapid  \n",
       "1  32.715904 -117.163929  SS-000031  \n",
       "3  32.716037 -117.163930  SS-000031  \n",
       "5  32.716169 -117.163931  SS-000031  \n",
       "7  32.717890 -117.161278  SS-000031  \n",
       "9  32.719024 -117.163951  SS-000028  "
      ]
     },
     "execution_count": 14,
     "metadata": {},
     "output_type": "execute_result"
    }
   ],
   "source": [
    "smartpark_df['date_inventory'] = pd.to_datetime(smartpark_df['date_inventory'])\n",
    "older_configs = smartpark_df[smartpark_df['date_inventory'].dt.year < 2019]\n",
    "older_configs.head()"
   ]
  },
  {
   "cell_type": "markdown",
   "id": "2b58001a",
   "metadata": {},
   "source": [
    "\n",
    "---\n",
    "\n",
    "## ✅ Hack 2: Count Configs by Area"
   ]
  },
  {
   "cell_type": "code",
   "execution_count": 15,
   "id": "6c8f72de",
   "metadata": {},
   "outputs": [
    {
     "data": {
      "text/html": [
       "<div>\n",
       "<style scoped>\n",
       "    .dataframe tbody tr th:only-of-type {\n",
       "        vertical-align: middle;\n",
       "    }\n",
       "\n",
       "    .dataframe tbody tr th {\n",
       "        vertical-align: top;\n",
       "    }\n",
       "\n",
       "    .dataframe thead th {\n",
       "        text-align: right;\n",
       "    }\n",
       "</style>\n",
       "<table border=\"1\" class=\"dataframe\">\n",
       "  <thead>\n",
       "    <tr style=\"text-align: right;\">\n",
       "      <th></th>\n",
       "      <th>area</th>\n",
       "      <th>Config Count</th>\n",
       "    </tr>\n",
       "  </thead>\n",
       "  <tbody>\n",
       "    <tr>\n",
       "      <th>0</th>\n",
       "      <td>Bankers Hill</td>\n",
       "      <td>1787</td>\n",
       "    </tr>\n",
       "    <tr>\n",
       "      <th>1</th>\n",
       "      <td>Barrio Logan</td>\n",
       "      <td>69</td>\n",
       "    </tr>\n",
       "    <tr>\n",
       "      <th>2</th>\n",
       "      <td>CBD - Trial</td>\n",
       "      <td>19</td>\n",
       "    </tr>\n",
       "    <tr>\n",
       "      <th>3</th>\n",
       "      <td>College</td>\n",
       "      <td>10</td>\n",
       "    </tr>\n",
       "    <tr>\n",
       "      <th>4</th>\n",
       "      <td>Columbia</td>\n",
       "      <td>163</td>\n",
       "    </tr>\n",
       "  </tbody>\n",
       "</table>\n",
       "</div>"
      ],
      "text/plain": [
       "           area  Config Count\n",
       "0  Bankers Hill          1787\n",
       "1  Barrio Logan            69\n",
       "2   CBD - Trial            19\n",
       "3       College            10\n",
       "4      Columbia           163"
      ]
     },
     "execution_count": 15,
     "metadata": {},
     "output_type": "execute_result"
    }
   ],
   "source": [
    "configs_by_area = smartpark_df.groupby('area')['config_id'].count().reset_index(name='Config Count')\n",
    "configs_by_area.head()"
   ]
  },
  {
   "cell_type": "markdown",
   "id": "1ec5d0c7",
   "metadata": {},
   "source": [
    "\n",
    "---\n",
    "\n",
    "## ✅ Hack 3: Find the Most Common Parking Configuration\n"
   ]
  },
  {
   "cell_type": "code",
   "execution_count": 16,
   "id": "4329ffe6",
   "metadata": {},
   "outputs": [
    {
     "name": "stdout",
     "output_type": "stream",
     "text": [
      "Most common config: Sunday Mode\n"
     ]
    }
   ],
   "source": [
    "most_common_config = smartpark_df['config_name'].mode().iloc[0]\n",
    "print(\"Most common config:\", most_common_config)"
   ]
  },
  {
   "cell_type": "markdown",
   "id": "9ebc25a8",
   "metadata": {},
   "source": [
    "\n",
    "---\n",
    "\n",
    "## ✅ Hack 4: Compare Configs per Zone Over Time"
   ]
  },
  {
   "cell_type": "code",
   "execution_count": 17,
   "id": "0055a28e",
   "metadata": {},
   "outputs": [
    {
     "data": {
      "text/html": [
       "<div>\n",
       "<style scoped>\n",
       "    .dataframe tbody tr th:only-of-type {\n",
       "        vertical-align: middle;\n",
       "    }\n",
       "\n",
       "    .dataframe tbody tr th {\n",
       "        vertical-align: top;\n",
       "    }\n",
       "\n",
       "    .dataframe thead th {\n",
       "        text-align: right;\n",
       "    }\n",
       "</style>\n",
       "<table border=\"1\" class=\"dataframe\">\n",
       "  <thead>\n",
       "    <tr style=\"text-align: right;\">\n",
       "      <th></th>\n",
       "      <th>zone</th>\n",
       "      <th>year</th>\n",
       "      <th>Config Count</th>\n",
       "    </tr>\n",
       "  </thead>\n",
       "  <tbody>\n",
       "    <tr>\n",
       "      <th>0</th>\n",
       "      <td>City</td>\n",
       "      <td>2018</td>\n",
       "      <td>18</td>\n",
       "    </tr>\n",
       "    <tr>\n",
       "      <th>1</th>\n",
       "      <td>City</td>\n",
       "      <td>2019</td>\n",
       "      <td>62</td>\n",
       "    </tr>\n",
       "    <tr>\n",
       "      <th>2</th>\n",
       "      <td>City</td>\n",
       "      <td>2021</td>\n",
       "      <td>75</td>\n",
       "    </tr>\n",
       "    <tr>\n",
       "      <th>3</th>\n",
       "      <td>Downtown</td>\n",
       "      <td>2018</td>\n",
       "      <td>1814</td>\n",
       "    </tr>\n",
       "    <tr>\n",
       "      <th>4</th>\n",
       "      <td>Downtown</td>\n",
       "      <td>2019</td>\n",
       "      <td>1486</td>\n",
       "    </tr>\n",
       "  </tbody>\n",
       "</table>\n",
       "</div>"
      ],
      "text/plain": [
       "       zone  year  Config Count\n",
       "0      City  2018            18\n",
       "1      City  2019            62\n",
       "2      City  2021            75\n",
       "3  Downtown  2018          1814\n",
       "4  Downtown  2019          1486"
      ]
     },
     "execution_count": 17,
     "metadata": {},
     "output_type": "execute_result"
    }
   ],
   "source": [
    "smartpark_df['year'] = smartpark_df['date_inventory'].dt.year\n",
    "configs_by_zone_year = smartpark_df.groupby(['zone', 'year']).size().reset_index(name='Config Count')\n",
    "configs_by_zone_year.head()"
   ]
  },
  {
   "cell_type": "markdown",
   "id": "a596cff2",
   "metadata": {},
   "source": [
    "\n",
    "---\n",
    "\n",
    "## ✅ Hack 5: Count Unique GPS Locations"
   ]
  },
  {
   "cell_type": "code",
   "execution_count": 18,
   "id": "a27a17ee",
   "metadata": {},
   "outputs": [
    {
     "name": "stdout",
     "output_type": "stream",
     "text": [
      "Unique parking locations (lat/lng pairs): 5308\n"
     ]
    }
   ],
   "source": [
    "unique_locations = smartpark_df[['lat', 'lng']].drop_duplicates().shape[0]\n",
    "print(\"Unique parking locations (lat/lng pairs):\", unique_locations)"
   ]
  },
  {
   "cell_type": "markdown",
   "id": "8d94f8cf",
   "metadata": {},
   "source": [
    "\n",
    "---\n",
    "\n",
    "## 🧠 Summary\n",
    "\n",
    "- Oldest config is before 2019: `\"2 Hour Max $1.25 HR 8am-6pm Mon-Sat (NFC)\"`\n",
    "- Most common configuration: `\"Sunday Mode\"`\n",
    "- Total unique GPS locations: `5308`\n",
    "- Grouping, filtering, and traversal were performed using Pandas!"
   ]
  }
 ],
 "metadata": {
  "kernelspec": {
   "display_name": ".venv",
   "language": "python",
   "name": "python3"
  },
  "language_info": {
   "codemirror_mode": {
    "name": "ipython",
    "version": 3
   },
   "file_extension": ".py",
   "mimetype": "text/x-python",
   "name": "python",
   "nbconvert_exporter": "python",
   "pygments_lexer": "ipython3",
   "version": "3.12.3"
  }
 },
 "nbformat": 4,
 "nbformat_minor": 5
}
