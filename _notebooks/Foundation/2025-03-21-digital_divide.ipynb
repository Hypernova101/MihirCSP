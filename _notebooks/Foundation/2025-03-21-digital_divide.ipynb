{
 "cells": [
  {
   "cell_type": "raw",
   "metadata": {
    "vscode": {
     "languageId": "raw"
    }
   },
   "source": [
    "---\n",
    "toc: true\n",
    "comments: true\n",
    "layout: post\n",
    "type: hacks\n",
    "courses: { compsci: {week: 25} }\n",
    "title: Digital Divide Homework\n",
    "---"
   ]
  },
  {
   "cell_type": "markdown",
   "metadata": {},
   "source": [
    "# Code Snippet 1: Exploring the Digital Divide"
   ]
  },
  {
   "cell_type": "markdown",
   "metadata": {
    "vscode": {
     "languageId": "javascript"
    }
   },
   "source": [
    "Selecting different options in the interactive console:\n",
    "\n",
    "![Image]({{site.baseurl}}/images/digitaldivide/input.png)"
   ]
  },
  {
   "cell_type": "markdown",
   "metadata": {},
   "source": [
    "## Option 1: Income-based Internet Access\n",
    "\n",
    "![Image]({{site.baseurl}}/images/digitaldivide/1.png)\n",
    "\n",
    "This output from the exploreDigitalDivide() function visualizes internet access by income level. It shows that higher-income groups have significantly better internet access (95% for the highest 20%) compared to lower-income groups (only 62% for the lowest 20%), highlighting the digital divide in affordability and accessibility."
   ]
  },
  {
   "cell_type": "markdown",
   "metadata": {},
   "source": [
    "# Code Snippet 2: Solutions Explorer"
   ]
  },
  {
   "cell_type": "markdown",
   "metadata": {},
   "source": [
    "![Image]({{site.baseurl}}/images/digitaldivide/solutionindex.png)"
   ]
  },
  {
   "cell_type": "markdown",
   "metadata": {},
   "source": [
    "I pressed 1 (Access), 2 (Rural Area), and finally 4 (Technical Expertise).\n",
    "\n",
    "The output presented me with some ways to improve the access in rural areas because of limited technical expertise. They were as follows:\n",
    "\n",
    "![Image]({{site.baseurl}}/images/digitaldivide/solutions.png)\n",
    "\n",
    "From this, it is evident that some solutions are provided to bridge the digital divide. This way, citizens can increase the access to technology, and everything/everyone can be more globally connected. Additionally, these solutions give ideas on how to reduce the divide where there is limited technical expertise, which fits many scenarios across the world."
   ]
  },
  {
   "cell_type": "markdown",
   "metadata": {},
   "source": [
    "# Essay Questions"
   ]
  },
  {
   "cell_type": "markdown",
   "metadata": {},
   "source": [
    "## 1. Compare and contrast the digital divide challenges faced in urban versus rural communities. What solutions might be effective in each context?\n",
    "\n",
    "Urban residents will have greater internet infrastructure, but digital divide problems are more about affordability and digital proficiency. For example, low-income city residents may have access to broadband but cannot pay monthly subscription fees. Rural areas face more infrastructure-related problems, such as thin broadband penetration because of thin population. Urban societies may have alternatives like low-income household subsidy programs, while rural societies may have wireless broadband deployment, satellite internet, or local networks."
   ]
  },
  {
   "cell_type": "markdown",
   "metadata": {},
   "source": [
    "## 2. Analyze how the COVID-19 pandemic exposed and potentially exacerbated existing digital divides. Include at least three specific examples.\n",
    "\n",
    "\n",
    "The COVID-19 pandemic brought to the forefront the digital divide as students with no dependable internet or devices fell behind in online learning, resulting in substantial educational loss. In medicine, telemedicine visits became an essential service, but numerous low-income or rural patients didn't have the internet capabilities necessary for virtual visits. Many occupations also shifted to working remotely, leaving behind those who do not have computers or reliable broadband, further expanding economic divides. These examples show how the pandemic made online connectivity more important than ever and exposed structural inequities in connectivity."
   ]
  }
 ],
 "metadata": {
  "language_info": {
   "name": "python"
  }
 },
 "nbformat": 4,
 "nbformat_minor": 2
}
