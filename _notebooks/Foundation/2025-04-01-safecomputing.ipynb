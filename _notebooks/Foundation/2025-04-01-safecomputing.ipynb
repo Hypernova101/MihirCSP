{
 "cells": [
  {
   "cell_type": "raw",
   "metadata": {
    "vscode": {
     "languageId": "raw"
    }
   },
   "source": [
    "---\n",
    "toc: true\n",
    "comments: false\n",
    "layout: post\n",
    "type: hacks\n",
    "courses: { compsci: {week: 26} }\n",
    "title: Safe Computing\n",
    "---"
   ]
  },
  {
   "cell_type": "markdown",
   "metadata": {},
   "source": [
    "### **Popcorn Hack #1: Website/Company that has your PII**\n",
    "\n",
    "**Service:**  \n",
    "**Instagram**\n",
    "\n",
    "**What data do they store?**  \n",
    "- Full name, email address, phone number  \n",
    "- Photos, videos, location data  \n",
    "- Message and post history  \n",
    "- Device and browsing information\n",
    "\n",
    "**If stolen, what could happen?**  \n",
    "Hackers could:\n",
    "- Impersonate me to scam others  \n",
    "- Use location and photo data to track my location  \n",
    "- Attempt phishing using my identity or send harmful DMs to me\n",
    "\n",
    "---\n",
    "\n",
    "### **Popcorn Hack #2: Suspicious bank email**\n",
    "\n",
    "**Steps to take before clicking any link:**\n",
    "1. **Check the sender’s email address and see if it is valid**\n",
    "2. **Do not click the link** and instead, visit the bank's official site manually\n",
    "3. **Call the bank** using the number on their official website, not on the email\n",
    "4. **Look for red flags** like spelling errors or urgent scare tactics\n",
    "5. **Report the email** to the bank or mark it as phishing\n",
    "\n",
    "---\n",
    "\n",
    "### **Popcorn Hack #3: Public Wi-Fi dangers**\n",
    "\n",
    "**How hackers exploit public Wi-Fi:**\n",
    "- Set up access points to spy on traffic  \n",
    "- Use packet sniffers to capture login details and personal data, could use something like a key logger as well to track key strokes  \n",
    "- Put malware into unsafe devices\n",
    "\n",
    "**Steps to take:**\n",
    "- **Avoid accessing sensitive info** like banking on public WiFi  \n",
    "- **Use a VPN** to encrypt your data  \n",
    "- **Turn off auto-connect** to Wi-Fi networks  \n",
    "- **Use HTTPS** websites for secure communication\n"
   ]
  }
 ],
 "metadata": {
  "language_info": {
   "name": "python"
  }
 },
 "nbformat": 4,
 "nbformat_minor": 2
}
