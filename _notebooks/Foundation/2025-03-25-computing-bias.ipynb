{
 "cells": [
  {
   "cell_type": "raw",
   "metadata": {
    "vscode": {
     "languageId": "raw"
    }
   },
   "source": [
    "---\n",
    "toc: true\n",
    "comments: false\n",
    "layout: post\n",
    "type: hacks\n",
    "courses: { compsci: {week: 26} }\n",
    "title: Computing Bias\n",
    "---"
   ]
  },
  {
   "cell_type": "markdown",
   "metadata": {},
   "source": [
    "# Popcorn Hack 1:\n",
    "## Think of a real-world example where a computer system has shown bias. It could be something you’ve read about, experienced, or imagined."
   ]
  },
  {
   "cell_type": "markdown",
   "metadata": {},
   "source": [
    "One real-world example is facial recognition software that performs poorly on people with darker skin tones. This is an example of Pre-existing Social Bias, as the training data often lacks diversity. One way to reduce this bias is to ensure the training dataset is balanced and includes a wide variety of skin tones and demographics."
   ]
  },
  {
   "cell_type": "markdown",
   "metadata": {},
   "source": [
    "# Popcorn Hack 2: \n",
    "## In the financial industry, an AI system used to approve loan applications unintentionally favors male applicants over female applicants because it was trained on past loan approval data, which reflected gender biases. This is an example of Pre-existing Social Bias.\n",
    "\n",
    "## Give two ways to mitigate this bias and make the system more fair."
   ]
  },
  {
   "cell_type": "markdown",
   "metadata": {},
   "source": [
    "1. The training data can be balanced to remove historical gender bias by including more diverse examples\n",
    "\n",
    "2. There can be different algorithms put in place to ensure that no gender bias is happening in companies systems."
   ]
  },
  {
   "cell_type": "markdown",
   "metadata": {},
   "source": [
    "# Homework Hack\n",
    "\n",
    "## Question: Think of a system or tool that you use every day—this could be a website, app, or device. Can you identify any bias that might exist in the way the system works?\n",
    "\n",
    "## Task:\n",
    "1. Describe the system you’re thinking of.\n",
    "2. Identify the bias in that system and explain why it might be biased. (Is it Pre-existing Social Bias, Technical Bias, or Emergent Social Bias?)\n",
    "3. Propose one way to reduce or fix the bias in that system."
   ]
  },
  {
   "cell_type": "markdown",
   "metadata": {},
   "source": [
    "One system I use a lot is Google Translate. This is a platform to translate words from language to language. While this is not applicable in english, in many other languages, they have male/female pronouns for different terms. \n",
    "\n",
    "Because of bias, google translate often defaults to male pronouns for terms such as doctor and engineer, and female pronouns for words like teacher and nurse. \n",
    "\n",
    "This is pre existing bias because it reflects the stereotypes found in the data it was trained on.\n",
    "\n",
    "One way to prevent this is to make sure the data is clean first, and then actively check when outputting any terms to make sure pronouns are gender neutral."
   ]
  }
 ],
 "metadata": {
  "language_info": {
   "name": "python"
  }
 },
 "nbformat": 4,
 "nbformat_minor": 2
}
