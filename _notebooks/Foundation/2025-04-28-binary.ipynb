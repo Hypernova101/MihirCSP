{
 "cells": [
  {
   "cell_type": "raw",
   "id": "87defb9f",
   "metadata": {
    "vscode": {
     "languageId": "raw"
    }
   },
   "source": [
    "---\n",
    "toc: true\n",
    "comments: false\n",
    "layout: post\n",
    "type: hacks\n",
    "courses: { compsci: {week: 26} }\n",
    "title: Binary Homework\n",
    "---"
   ]
  },
  {
   "cell_type": "code",
   "execution_count": 1,
   "id": "71fbe33a",
   "metadata": {},
   "outputs": [],
   "source": [
    "def binary_to_decimal(binary_str):\n",
    "    try:\n",
    "        return int(binary_str, 2)\n",
    "    except ValueError:\n",
    "        return None\n",
    "\n",
    "def decimal_to_binary(decimal_num):\n",
    "    if isinstance(decimal_num, int):\n",
    "        return bin(decimal_num)[2:]\n",
    "    else:\n",
    "        #extra credit\n",
    "        fractional_part = decimal_num - int(decimal_num)\n",
    "        binary_fraction = \"\"\n",
    "        while fractional_part and len(binary_fraction) < 10:\n",
    "            fractional_part *= 2\n",
    "            bit = int(fractional_part)\n",
    "            binary_fraction += str(bit)\n",
    "            fractional_part -= bit\n",
    "        return bin(int(decimal_num))[2:] + \".\" + binary_fraction\n",
    "\n",
    "def add_binary(b1, b2):\n",
    "    return bin(binary_to_decimal(b1) + binary_to_decimal(b2))[2:]\n",
    "\n",
    "def subtract_binary(b1, b2):\n",
    "    return bin(binary_to_decimal(b1) - binary_to_decimal(b2))[2:]\n",
    "\n",
    "def multiply_binary(b1, b2):\n",
    "    return bin(binary_to_decimal(b1) * binary_to_decimal(b2))[2:]\n",
    "\n",
    "def divide_binary(b1, b2):\n",
    "    denominator = binary_to_decimal(b2)\n",
    "    if denominator == 0:\n",
    "        return \"Error: Division by zero\"\n",
    "    return bin(binary_to_decimal(b1) // denominator)[2:]\n",
    "\n",
    "def calculator():\n",
    "    print(\"Welcome to the Binary Calculator!\")\n",
    "    print(\"Options: add, subtract, multiply, divide, bin2dec, dec2bin\")\n",
    "    \n",
    "    while True:\n",
    "        choice = input(\"Enter operation (or 'exit' to quit): \").lower()\n",
    "\n",
    "        if choice == 'exit':\n",
    "            print(\"Goodbye!\")\n",
    "            break\n",
    "\n",
    "        if choice in ['add', 'subtract', 'multiply', 'divide']:\n",
    "            b1 = input(\"Enter first binary number: \")\n",
    "            b2 = input(\"Enter second binary number: \")\n",
    "            if binary_to_decimal(b1) is None or binary_to_decimal(b2) is None:\n",
    "                print(\"Invalid binary input.\")\n",
    "                continue\n",
    "\n",
    "            if choice == 'add':\n",
    "                print(\"Result:\", add_binary(b1, b2))\n",
    "            elif choice == 'subtract':\n",
    "                print(\"Result:\", subtract_binary(b1, b2))\n",
    "            elif choice == 'multiply':\n",
    "                print(\"Result:\", multiply_binary(b1, b2))\n",
    "            elif choice == 'divide':\n",
    "                print(\"Result:\", divide_binary(b1, b2))\n",
    "\n",
    "        elif choice == 'bin2dec':\n",
    "            b = input(\"Enter binary number: \")\n",
    "            result = binary_to_decimal(b)\n",
    "            if result is not None:\n",
    "                print(\"Decimal:\", result)\n",
    "            else:\n",
    "                print(\"Invalid binary number.\")\n",
    "\n",
    "        elif choice == 'dec2bin':\n",
    "            d = input(\"Enter decimal number: \")\n",
    "            try:\n",
    "                d = float(d)\n",
    "                print(\"Binary:\", decimal_to_binary(d))\n",
    "            except ValueError:\n",
    "                print(\"Invalid decimal input.\")\n",
    "\n",
    "        else:\n",
    "            print(\"Unknown operation.\")"
   ]
  },
  {
   "cell_type": "code",
   "execution_count": null,
   "id": "f15007b1",
   "metadata": {},
   "outputs": [
    {
     "name": "stdout",
     "output_type": "stream",
     "text": [
      "Welcome to the Binary Calculator!\n",
      "Options: add, subtract, multiply, divide, bin2dec, dec2bin\n"
     ]
    }
   ],
   "source": [
    "calculator()"
   ]
  }
 ],
 "metadata": {
  "kernelspec": {
   "display_name": "Python 3",
   "language": "python",
   "name": "python3"
  },
  "language_info": {
   "codemirror_mode": {
    "name": "ipython",
    "version": 3
   },
   "file_extension": ".py",
   "mimetype": "text/x-python",
   "name": "python",
   "nbconvert_exporter": "python",
   "pygments_lexer": "ipython3",
   "version": "3.12.3"
  }
 },
 "nbformat": 4,
 "nbformat_minor": 5
}
