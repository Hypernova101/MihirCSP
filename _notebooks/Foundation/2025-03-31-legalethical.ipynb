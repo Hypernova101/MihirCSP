{
 "cells": [
  {
   "cell_type": "raw",
   "metadata": {
    "vscode": {
     "languageId": "raw"
    }
   },
   "source": [
    "---\n",
    "toc: true\n",
    "comments: false\n",
    "layout: post\n",
    "type: hacks\n",
    "courses: { compsci: {week: 26} }\n",
    "title: Legal and Ethical Concerns\n",
    "---"
   ]
  },
  {
   "cell_type": "markdown",
   "metadata": {},
   "source": [
    "### **Popcorn Hack #1:**\n",
    "**Question:**  \n",
    "Suppose you buy something that someone made.  \n",
    "- Give an example of when it *is* your IP, and when it is *not* your IP.  \n",
    "**HINT:** When are you allowed to make copies of and/or resell someone else’s product after you buy it?\n",
    "\n",
    "**Answer:**\n",
    "\n",
    "- **My IP:** If you **create your own digital art** or **code a program from scratch**, it is your intellectual property. Also, if you buy something **custom-made for you with full rights transferred** (e.g., you commission a logo and the designer gives you full ownership), it can be considered your IP.\n",
    "\n",
    "- **Not My IP:** If you **buy a video game**, you own the license to use it, but not the IP — you can’t make copies or resell it digitally. Also, buying a **book** doesn't give you rights to copy or republish it.\n",
    "\n",
    "---\n",
    "\n",
    "### **Popcorn Hack #2:**\n",
    "**Question:**  \n",
    "As a computer science student, which license suits your repository/site the best and why?\n",
    "\n",
    "**Answer:**\n",
    "\n",
    "As a CS student sharing a project on GitHub, I would choose the **MIT License**.\n",
    "\n",
    "**Why?**  \n",
    "- It allows others to freely use, modify, and distribute my code.\n",
    "- It only asks that people include the original license, which promotes credit to the author.\n",
    "- It keeps things simple and encourages collaboration, which is great for learning and open-source contribution.\n",
    "\n"
   ]
  },
  {
   "cell_type": "markdown",
   "metadata": {},
   "source": [
    "## Explain how intellectual property rights are being impacted by access to digital content. Provide one example of a valid way of using another individual's work without violating their rights.\n",
    "\n",
    "Answer: The ease with which digital content can be accessed makes it easy to download and share other people's work without permission, thus increasing the potential for intellectual property violations. A legitimate use of other individuals' work is via a material carrying a Creative Commons license and which complies with the terms, such as crediting the author\n",
    "\n",
    "## Compare and contrast Open Source and Creative Commons licenses. In what situations would an author use a Creative Commons license rather than an Open Source license?\n",
    "\n",
    "Answer: Creative Commons licenses are reserved for creative work like music, writing, or photos, while Open Source licenses are used for software and code. The creator can take up a Creative Commons license if she is posting video or art media and wants other individuals to reuse it without transforming it into an open-source product\n",
    "\n",
    "## A company wants to redistribute their software for free and allow modification but not allow competitors to sell the modified version. What license should they employ, and why?\n",
    "\n",
    "Answer: The firm should choose the GNU General Public License (GPL) as it requires that any changed versions be open source as well and under the same license. This prevents competitors from turning the software into a paid software without disclosing their modifications\n",
    "\n",
    "## Why is copyright important in protecting intellectual property?\n",
    "\n",
    "Answer: Copyright gives creators legal rights over the use and distribution of their work. It protects their rights, ensures that they are credited, and encourages innovation by allowing them to make money from their work"
   ]
  }
 ],
 "metadata": {
  "language_info": {
   "name": "python"
  }
 },
 "nbformat": 4,
 "nbformat_minor": 2
}
