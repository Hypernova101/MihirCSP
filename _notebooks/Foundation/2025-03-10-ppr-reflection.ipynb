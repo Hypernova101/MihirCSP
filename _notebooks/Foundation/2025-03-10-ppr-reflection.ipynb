{
 "cells": [
  {
   "cell_type": "raw",
   "metadata": {
    "vscode": {
     "languageId": "raw"
    }
   },
   "source": [
    "---\n",
    "toc: true\n",
    "comments: true\n",
    "layout: post\n",
    "type: hacks\n",
    "courses: { compsci: {week: 25} }\n",
    "title: PPR Blog - Mihir\n",
    "description: Blog for PPR Code Snippets\n",
    "---"
   ]
  },
  {
   "cell_type": "markdown",
   "metadata": {},
   "source": [
    "### **1. sendMessage Function (Frontend)**\n",
    "#### **Purpose:**  \n",
    "Handles user input by allowing users to send messages to the chatroom, dynamically updating the interface, and communicating with the backend.\n",
    "\n",
    "#### **How it meets CPT Requirements:**\n",
    "**User Input Handling:** Accepts user input from a text field and processes it.  \n",
    "**List Usage:** Manages chat messages dynamically as a list in the DOM.  \n",
    "**Algorithm Implementation:**  \n",
    "   - **Sequencing:** Sends a message, updates the UI, and calls the backend.  \n",
    "   - **Selection:** Validates if a message is empty before sending.  \n",
    "   - **Iteration:** Uses `forEach` when updating messages.  \n",
    "**Program Output:** Visually updates the chat with a new message.  \n",
    "\n",
    "\n",
    "---"
   ]
  },
  {
   "cell_type": "code",
   "execution_count": null,
   "metadata": {
    "vscode": {
     "languageId": "javascript"
    }
   },
   "outputs": [],
   "source": [
    "async function sendMessage() {\n",
    "    const chatBox = document.getElementById('chatBox');\n",
    "    const messageInput = document.getElementById('messageInput');\n",
    "    const message = messageInput.value.trim();\n",
    "    if (message) {\n",
    "        const tempId = `temp-${Date.now()}`;\n",
    "        const messageElement = document.createElement('div');\n",
    "        messageElement.className = 'chat-message';\n",
    "        messageElement.id = tempId;\n",
    "        messageElement.innerHTML = `\n",
    "            <div class=\"message-content\">\n",
    "                <p><strong>${message}</strong></p>\n",
    "                <button class=\"edit-button\" onclick=\"editMessage('${tempId}')\">Edit</button>\n",
    "                <button class=\"delete-button\" onclick=\"deleteMessage('${tempId}')\">Delete</button>\n",
    "            </div>\n",
    "        `;\n",
    "        chatBox.appendChild(messageElement);\n",
    "        messageInput.value = '';\n",
    "        chatBox.scrollTop = chatBox.scrollHeight;\n",
    "\n",
    "        const postData = { message: message, channel_id: selectedChannelId };\n",
    "        try {\n",
    "            const response = await fetch(`${pythonURI}/api/chat`, {\n",
    "                ...fetchOptions,\n",
    "                method: 'POST',\n",
    "                headers: { 'Content-Type': 'application/json' },\n",
    "                body: JSON.stringify(postData)\n",
    "            });\n",
    "            if (!response.ok) throw new Error('Failed to add post: ' + response.statusText);\n",
    "            const result = await response.json();\n",
    "            const postId = result.id;\n",
    "            const tempElement = document.getElementById(tempId);\n",
    "            tempElement.id = `post-${postId}`;\n",
    "            tempElement.querySelector('.edit-button').setAttribute('onclick', `editMessage(${postId})`);\n",
    "            tempElement.querySelector('.delete-button').setAttribute('onclick', `deleteMessage(${postId})`);\n",
    "        } catch (error) {\n",
    "            console.error('Error adding post:', error);\n",
    "            document.getElementById(tempId).remove();\n",
    "        }\n",
    "    }\n",
    "}"
   ]
  },
  {
   "cell_type": "markdown",
   "metadata": {},
   "source": [
    "### **2. ChatAPI._CRUD.post (Backend)**\n",
    "#### **Purpose:**  \n",
    "Handles message creation by receiving data from the frontend, validating input, and storing it in the database.\n",
    "\n",
    "#### **How it meets CPT Requirements:**\n",
    "**User Input Handling:** Processes messages sent by users.  \n",
    "**List Usage:** Stores chat messages in a database table (`Chat`).  \n",
    "**Student-Developed Procedure:**  \n",
    "   - **Defined Name & Return Type:** `post(self)` returns a JSON response.  \n",
    "   - **Uses Parameters:** Extracts `message` and `channel_id` from the request.  \n",
    "**Algorithm Implementation:**  \n",
    "   - **Sequencing:** Validates input, creates a new message, and saves it.  \n",
    "   - **Selection:** Checks if required fields are present.  \n",
    "   - **Iteration:** Not directly needed for creating a single message, but used when retrieving messages.  \n",
    "**Program Output:** Returns a JSON response with the new chat message.  \n",
    "\n",
    "\n"
   ]
  },
  {
   "cell_type": "code",
   "execution_count": null,
   "metadata": {},
   "outputs": [],
   "source": [
    "@token_required()\n",
    "def post(self):\n",
    "    \"\"\"\n",
    "    Create a new chat message.\n",
    "    \"\"\"\n",
    "    current_user = g.current_user\n",
    "    data = request.get_json()\n",
    "\n",
    "    if not data or 'message' not in data or 'channel_id' not in data:\n",
    "        return {'message': 'Message and Channel ID are required'}, 400\n",
    "\n",
    "    chat = Chat(message=data['message'], user_id=current_user.id, channel_id=data['channel_id'])\n",
    "    chat.create()\n",
    "    return jsonify(chat.read())"
   ]
  },
  {
   "cell_type": "markdown",
   "metadata": {},
   "source": [
    "### **3. fetchData(channelId) (Frontend)**\n",
    "#### **Purpose:**  \n",
    "Fetches and displays chat messages for a selected channel.\n",
    "\n",
    "#### **How it meets CPT Requirements:**\n",
    "**User Input Handling:** Fetches messages based on user-selected channels.  \n",
    "**List Usage:** Uses an array of chat messages retrieved from the backend.  \n",
    "**Algorithm Implementation:**  \n",
    "   - **Sequencing:** Retrieves messages and updates the UI.  \n",
    "   - **Selection:** Checks if the response is valid before displaying data.  \n",
    "   - **Iteration:** Loops through messages to display them.  \n",
    "**Program Output:** Visually updates the chat window.  "
   ]
  },
  {
   "cell_type": "code",
   "execution_count": null,
   "metadata": {
    "vscode": {
     "languageId": "javascript"
    }
   },
   "outputs": [],
   "source": [
    "async function fetchData(channelId) {\n",
    "    try {\n",
    "        const userResponse = await fetch(`${pythonURI}/api/user`, fetchOptions);\n",
    "        if (!userResponse.ok) throw new Error('Failed to fetch user data');\n",
    "        const userData = await userResponse.json();\n",
    "        const currentUserId = userData.id;\n",
    "\n",
    "        const response = await fetch(`${pythonURI}/api/chat?id=${channelId}`, {\n",
    "            ...fetchOptions,\n",
    "            method: 'GET',\n",
    "            headers: { 'Content-Type': 'application/json' }\n",
    "        });\n",
    "        if (!response.ok) throw new Error('Failed to fetch chats: ' + response.statusText);\n",
    "        const chatData = await response.json();\n",
    "\n",
    "        const chatBox = document.getElementById('chatBox');\n",
    "        chatBox.innerHTML = '';\n",
    "        chatData.forEach(chatItem => {\n",
    "            const messageElement = document.createElement('div');\n",
    "            messageElement.className = 'chat-message';\n",
    "            messageElement.id = `chat-${chatItem.id}`;\n",
    "            let buttonsHTML = \"\";\n",
    "            if (chatItem.user_id === currentUserId || currentUserId === 1) {\n",
    "                buttonsHTML = `\n",
    "                    <button class=\"edit-button\" onclick=\"editMessage(${chatItem.id})\">Edit</button>\n",
    "                    <button class=\"delete-button\" onclick=\"deleteMessage(${chatItem.id})\">Delete</button>\n",
    "                `;\n",
    "            }\n",
    "            messageElement.innerHTML = `\n",
    "                <div class=\"message-content\">\n",
    "                    <p><strong>${chatItem.message}</strong></p>\n",
    "                    ${buttonsHTML}\n",
    "                </div>\n",
    "            `;\n",
    "            chatBox.appendChild(messageElement);\n",
    "        });\n",
    "        chatBox.scrollTop = chatBox.scrollHeight;\n",
    "    } catch (error) {\n",
    "        console.error('Error fetching data:', error);\n",
    "    }\n",
    "}"
   ]
  },
  {
   "cell_type": "markdown",
   "metadata": {},
   "source": [
    "### **4. Chat.update (Backend)**\n",
    "#### **Purpose:**  \n",
    "Allows users to edit existing messages.\n",
    "\n",
    "#### **How it meets CPT Requirements:**\n",
    "**User Input Handling:** Updates messages with new content provided by the user.  \n",
    "**List Usage:** Modifies existing chat messages in the database.  \n",
    "**Student-Developed Procedure:**  \n",
    "   - **Defined Name & Return Type:** `update(self, data)` returns the updated message.  \n",
    "   - **Uses Parameters:** Accepts `data`, which contains new message content.  \n",
    "**Algorithm Implementation:**  \n",
    "   - **Sequencing:** Updates the message and commits changes.  \n",
    "   - **Selection:** Checks if `message` exists before updating.  \n",
    "   - **Iteration:** Not directly, but used for batch updates in future modifications.  \n",
    "**Program Output:** Returns updated message data.  "
   ]
  },
  {
   "cell_type": "code",
   "execution_count": null,
   "metadata": {},
   "outputs": [],
   "source": [
    "def update(self, data):\n",
    "    \"\"\"\n",
    "    Updates the chat message object with new data.\n",
    "\n",
    "    Args:\n",
    "        data (dict): A dictionary containing the new data for the chat message.\n",
    "\n",
    "    Returns:\n",
    "        Chat: The updated chat message object, or None on error.\n",
    "    \"\"\"\n",
    "    if 'message' in data:\n",
    "        self._message = data['message']\n",
    "\n",
    "    try:\n",
    "        db.session.commit()\n",
    "    except IntegrityError as e:\n",
    "        db.session.rollback()\n",
    "        logging.warning(f\"IntegrityError: Could not update chat with ID '{self.id}' due to {str(e)}.\")\n",
    "        return None\n",
    "    return self"
   ]
  },
  {
   "cell_type": "markdown",
   "metadata": {},
   "source": [
    "Overall, these will be the 4 code snippets I submit as my PPR to College Board, so that I can use it while talking about my CPT on the FRQ portion of the exam."
   ]
  }
 ],
 "metadata": {
  "language_info": {
   "name": "python"
  }
 },
 "nbformat": 4,
 "nbformat_minor": 2
}
